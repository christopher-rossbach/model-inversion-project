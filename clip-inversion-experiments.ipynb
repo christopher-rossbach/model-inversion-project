{
 "cells": [
  {
   "cell_type": "code",
   "execution_count": 1,
   "metadata": {
    "ExecuteTime": {
     "end_time": "2025-07-05T21:31:09.528260Z",
     "start_time": "2025-07-05T21:31:08.704620Z"
    }
   },
   "outputs": [
    {
     "name": "stdout",
     "output_type": "stream",
     "text": [
      "env: https_proxy=http://proxy:80\n",
      "env: http_proxy=http://proxy:80\n"
     ]
    },
    {
     "name": "stderr",
     "output_type": "stream",
     "text": [
      "/home/woody/iwi1/iwi1106h/software/private/conda/envs/bube/lib/python3.11/site-packages/kornia/feature/lightglue.py:44: FutureWarning: `torch.cuda.amp.custom_fwd(args...)` is deprecated. Please use `torch.amp.custom_fwd(args..., device_type='cuda')` instead.\n",
      "  @torch.cuda.amp.custom_fwd(cast_inputs=torch.float32)\n"
     ]
    }
   ],
   "source": [
    "%load_ext autoreload\n",
    "%autoreload 2\n",
    "%env https_proxy=http://proxy:80\n",
    "%env http_proxy=http://proxy:80\n",
    "\n",
    "import torch\n",
    "import torch.nn as nn\n",
    "import torch.nn.functional as F\n",
    "import matplotlib.pyplot as plt\n",
    "from torchvision.utils import make_grid\n",
    "import kornia.augmentation as K\n",
    "from torchvision import models\n",
    "import sys\n",
    "\n",
    "from inversion.utils import *\n",
    "from inversion.clip_guided_stable_diffusion import *\n",
    "from tqdm.notebook import tqdm\n",
    "import numpy as np\n",
    "from inversion.clip_utils import *\n",
    "from inversion.run_config import RunConfig\n",
    "from inversion.reconstruction import run_reconstructions\n",
    "from IPython.display import display, Markdown, Image as IPyImage\n",
    "\n",
    "import PIL\n",
    "import json"
   ]
  },
  {
   "cell_type": "code",
   "execution_count": 3,
   "metadata": {
    "ExecuteTime": {
     "end_time": "2025-07-05T21:31:10.225685Z",
     "start_time": "2025-07-05T21:31:09.657872Z"
    }
   },
   "outputs": [],
   "source": [
    "# Load the individual components of Stable Diffusion\n",
    "diffusion_model_name = \"CompVis/stable-diffusion-v1-4\"\n",
    "clip_model_name = \"openai/clip-vit-large-patch14\"\n",
    "\n",
    "device = torch.device(\"cuda\" if torch.cuda.is_available() else \"cpu\")\n",
    "clip_suite = CLIPSuite(diffusion_model_name, clip_model_name)"
   ]
  },
  {
   "cell_type": "code",
   "execution_count": 3,
   "metadata": {},
   "outputs": [],
   "source": [
    "# Load the VAE, UNet, and text encoder\n",
    "unet = lambda x: clip_suite.vae()(x)\n",
    "scheduler = clip_suite.scheduler()\n",
    "\n",
    "text_encoder = lambda x: clip_suite.text_encoder()(x)\n",
    "text_projector = lambda x: clip_suite.text_projector()(x)\n",
    "image_encoder = lambda x: clip_suite.image_encoder()(x)\n",
    "image_projector = lambda x: clip_suite.image_projector()(x)\n",
    "clip_model = lambda x: clip_suite.clip_model()(x)\n",
    "tokenizer = clip_suite.tokenizer()\n",
    "image_processor = clip_suite.image_processor()"
   ]
  },
  {
   "cell_type": "code",
   "execution_count": 4,
   "metadata": {
    "ExecuteTime": {
     "end_time": "2025-07-05T21:31:10.315416Z",
     "start_time": "2025-07-05T21:31:10.235925Z"
    }
   },
   "outputs": [
    {
     "name": "stdout",
     "output_type": "stream",
     "text": [
      "Loading model from ./checkpoints/rn_to_imclip_linear_mapping_2048_1024_1024/2024-12-14T18:12:58_epoch_00_batch_000700.pth\n"
     ]
    },
    {
     "name": "stderr",
     "output_type": "stream",
     "text": [
      "/home/woody/iwi1/iwi1106h/Projects/BUBE/inversion/utils.py:249: FutureWarning: You are using `torch.load` with `weights_only=False` (the current default value), which uses the default pickle module implicitly. It is possible to construct malicious pickle data which will execute arbitrary code during unpickling (See https://github.com/pytorch/pytorch/blob/main/SECURITY.md#untrusted-models for more details). In a future release, the default value for `weights_only` will be flipped to `True`. This limits the functions that could be executed during unpickling. Arbitrary objects will no longer be allowed to be loaded via this mode unless they are explicitly allowlisted by the user via `torch.serialization.add_safe_globals`. We recommend you start setting `weights_only=True` for any use case where you don't have full control of the loaded file. Please open an issue on GitHub for any issues related to this experimental feature.\n",
      "  model.load_state_dict(torch.load(checkpoints[-1]))\n"
     ]
    },
    {
     "data": {
      "text/plain": [
       "Sequential(\n",
       "  (0): Linear(in_features=2048, out_features=1024, bias=True)\n",
       "  (1): BatchNorm1d(1024, eps=1e-05, momentum=0.1, affine=True, track_running_stats=True)\n",
       "  (2): ReLU()\n",
       "  (3): Linear(in_features=1024, out_features=1024, bias=True)\n",
       ")"
      ]
     },
     "execution_count": 4,
     "metadata": {},
     "output_type": "execute_result"
    }
   ],
   "source": [
    "mapping_model, mapping_model_id = get_simple_sclip_model()\n",
    "mapping_model.to(device)"
   ]
  },
  {
   "cell_type": "markdown",
   "metadata": {},
   "source": [
    "# Restnet vs Surrogate CLIP vs RN + SCLIP"
   ]
  },
  {
   "cell_type": "code",
   "execution_count": 4,
   "metadata": {
    "ExecuteTime": {
     "end_time": "2025-07-05T20:40:38.237249Z",
     "start_time": "2025-07-05T19:35:24.101632Z"
    }
   },
   "outputs": [
    {
     "name": "stdout",
     "output_type": "stream",
     "text": [
      "Loading model from ./checkpoints/rn_to_imclip_linear_mapping_2048_1024_1024/2024-12-14T18:12:58_epoch_00_batch_000700.pth\n"
     ]
    },
    {
     "name": "stderr",
     "output_type": "stream",
     "text": [
      "/home/woody/iwi1/iwi1106h/Projects/BUBE/inversion/utils.py:284: FutureWarning: You are using `torch.load` with `weights_only=False` (the current default value), which uses the default pickle module implicitly. It is possible to construct malicious pickle data which will execute arbitrary code during unpickling (See https://github.com/pytorch/pytorch/blob/main/SECURITY.md#untrusted-models for more details). In a future release, the default value for `weights_only` will be flipped to `True`. This limits the functions that could be executed during unpickling. Arbitrary objects will no longer be allowed to be loaded via this mode unless they are explicitly allowlisted by the user via `torch.serialization.add_safe_globals`. We recommend you start setting `weights_only=True` for any use case where you don't have full control of the loaded file. Please open an issue on GitHub for any issues related to this experimental feature.\n",
      "  model.load_state_dict(torch.load(checkpoints[-1]))\n",
      "\u001b[34m\u001b[1mwandb\u001b[0m: Currently logged in as: \u001b[33mchristopher-rossbach\u001b[0m (\u001b[33mteam-cr\u001b[0m) to \u001b[32mhttps://api.wandb.ai\u001b[0m. Use \u001b[1m`wandb login --relogin`\u001b[0m to force relogin\n"
     ]
    },
    {
     "data": {
      "text/html": [
       "Tracking run with wandb version 0.21.1"
      ],
      "text/plain": [
       "<IPython.core.display.HTML object>"
      ]
     },
     "metadata": {},
     "output_type": "display_data"
    },
    {
     "data": {
      "text/html": [
       "Run data is saved locally in <code>/home/woody/iwi1/iwi1106h/Projects/BUBE/wandb/run-20250828_213921-fjy3ywwt</code>"
      ],
      "text/plain": [
       "<IPython.core.display.HTML object>"
      ]
     },
     "metadata": {},
     "output_type": "display_data"
    },
    {
     "data": {
      "text/html": [
       "Syncing run <strong><a href='https://wandb.ai/team-cr/model-inversion-gen3/runs/fjy3ywwt' target=\"_blank\">ref_vgg16_loss_init_test_rn-mse_1.0_tv-squared_relu_1_14042.jpg</a></strong> to <a href='https://wandb.ai/team-cr/model-inversion-gen3' target=\"_blank\">Weights & Biases</a> (<a href='https://wandb.me/developer-guide' target=\"_blank\">docs</a>)<br>"
      ],
      "text/plain": [
       "<IPython.core.display.HTML object>"
      ]
     },
     "metadata": {},
     "output_type": "display_data"
    },
    {
     "data": {
      "text/html": [
       " View project at <a href='https://wandb.ai/team-cr/model-inversion-gen3' target=\"_blank\">https://wandb.ai/team-cr/model-inversion-gen3</a>"
      ],
      "text/plain": [
       "<IPython.core.display.HTML object>"
      ]
     },
     "metadata": {},
     "output_type": "display_data"
    },
    {
     "data": {
      "text/html": [
       " View run at <a href='https://wandb.ai/team-cr/model-inversion-gen3/runs/fjy3ywwt' target=\"_blank\">https://wandb.ai/team-cr/model-inversion-gen3/runs/fjy3ywwt</a>"
      ],
      "text/plain": [
       "<IPython.core.display.HTML object>"
      ]
     },
     "metadata": {},
     "output_type": "display_data"
    },
    {
     "name": "stdout",
     "output_type": "stream",
     "text": [
      "Setting up [LPIPS] perceptual loss: trunk [alex], v[0.1], spatial [off]\n"
     ]
    },
    {
     "name": "stderr",
     "output_type": "stream",
     "text": [
      "/home/woody/iwi1/iwi1106h/software/private/conda/envs/bube/lib/python3.11/site-packages/torchvision/models/_utils.py:208: UserWarning: The parameter 'pretrained' is deprecated since 0.13 and may be removed in the future, please use 'weights' instead.\n",
      "  warnings.warn(\n",
      "/home/woody/iwi1/iwi1106h/software/private/conda/envs/bube/lib/python3.11/site-packages/torchvision/models/_utils.py:223: UserWarning: Arguments other than a weight enum or `None` for 'weights' are deprecated since 0.13 and may be removed in the future. The current behavior is equivalent to passing `weights=AlexNet_Weights.IMAGENET1K_V1`. You can also use `weights=AlexNet_Weights.DEFAULT` to get the most up-to-date weights.\n",
      "  warnings.warn(msg)\n"
     ]
    },
    {
     "name": "stdout",
     "output_type": "stream",
     "text": [
      "Loading model from: /home/woody/iwi1/iwi1106h/software/private/conda/envs/bube/lib/python3.11/site-packages/lpips/weights/v0.1/alex.pth\n",
      "Setting up [LPIPS] perceptual loss: trunk [squeeze], v[0.1], spatial [off]\n",
      "Loading model from: /home/woody/iwi1/iwi1106h/software/private/conda/envs/bube/lib/python3.11/site-packages/lpips/weights/v0.1/squeeze.pth\n"
     ]
    },
    {
     "name": "stderr",
     "output_type": "stream",
     "text": [
      "/home/woody/iwi1/iwi1106h/software/private/conda/envs/bube/lib/python3.11/site-packages/lpips/lpips.py:107: FutureWarning: You are using `torch.load` with `weights_only=False` (the current default value), which uses the default pickle module implicitly. It is possible to construct malicious pickle data which will execute arbitrary code during unpickling (See https://github.com/pytorch/pytorch/blob/main/SECURITY.md#untrusted-models for more details). In a future release, the default value for `weights_only` will be flipped to `True`. This limits the functions that could be executed during unpickling. Arbitrary objects will no longer be allowed to be loaded via this mode unless they are explicitly allowlisted by the user via `torch.serialization.add_safe_globals`. We recommend you start setting `weights_only=True` for any use case where you don't have full control of the loaded file. Please open an issue on GitHub for any issues related to this experimental feature.\n",
      "  self.load_state_dict(torch.load(model_path, map_location='cpu'), strict=False)\n",
      "/home/woody/iwi1/iwi1106h/software/private/conda/envs/bube/lib/python3.11/site-packages/torchvision/models/_utils.py:223: UserWarning: Arguments other than a weight enum or `None` for 'weights' are deprecated since 0.13 and may be removed in the future. The current behavior is equivalent to passing `weights=SqueezeNet1_1_Weights.IMAGENET1K_V1`. You can also use `weights=SqueezeNet1_1_Weights.DEFAULT` to get the most up-to-date weights.\n",
      "  warnings.warn(msg)\n"
     ]
    },
    {
     "data": {
      "text/html": [],
      "text/plain": [
       "<IPython.core.display.HTML object>"
      ]
     },
     "metadata": {},
     "output_type": "display_data"
    },
    {
     "data": {
      "text/html": [
       "<br>    <style><br>        .wandb-row {<br>            display: flex;<br>            flex-direction: row;<br>            flex-wrap: wrap;<br>            justify-content: flex-start;<br>            width: 100%;<br>        }<br>        .wandb-col {<br>            display: flex;<br>            flex-direction: column;<br>            flex-basis: 100%;<br>            flex: 1;<br>            padding: 10px;<br>        }<br>    </style><br><div class=\"wandb-row\"><div class=\"wandb-col\"><h3>Run history:</h3><br/><table class=\"wandb\"><tr><td>current_learning_rate</td><td>▁▁▁▁▁▁▁▁▁▁▁▁▁▁▁▁▁▁▁▁▁▁▁▁▁▁▁▁▁▁▁▁▁▁▁▁▁▁▁▁</td></tr><tr><td>current_resolution</td><td>▁▁▁▁▁▁▂▂▂▂▂▂▂▂▅▅▅▅▅▅▅▅▅█████████████████</td></tr></table><br/></div><div class=\"wandb-col\"><h3>Run summary:</h3><br/><table class=\"wandb\"><tr><td>current_learning_rate</td><td>10</td></tr><tr><td>current_resolution</td><td>224</td></tr></table><br/></div></div>"
      ],
      "text/plain": [
       "<IPython.core.display.HTML object>"
      ]
     },
     "metadata": {},
     "output_type": "display_data"
    },
    {
     "data": {
      "text/html": [
       " View run <strong style=\"color:#cdcd00\">ref_vgg16_loss_init_test_rn-mse_1.0_tv-squared_relu_1_14042.jpg</strong> at: <a href='https://wandb.ai/team-cr/model-inversion-gen3/runs/fjy3ywwt' target=\"_blank\">https://wandb.ai/team-cr/model-inversion-gen3/runs/fjy3ywwt</a><br> View project at: <a href='https://wandb.ai/team-cr/model-inversion-gen3' target=\"_blank\">https://wandb.ai/team-cr/model-inversion-gen3</a><br>Synced 5 W&B file(s), 156 media file(s), 0 artifact file(s) and 0 other file(s)"
      ],
      "text/plain": [
       "<IPython.core.display.HTML object>"
      ]
     },
     "metadata": {},
     "output_type": "display_data"
    },
    {
     "data": {
      "text/html": [
       "Find logs at: <code>./wandb/run-20250828_213921-fjy3ywwt/logs</code>"
      ],
      "text/plain": [
       "<IPython.core.display.HTML object>"
      ]
     },
     "metadata": {},
     "output_type": "display_data"
    }
   ],
   "source": [
    "configs = []\n",
    "init_conf = RunConfig(\n",
    "    loss_scale_rn = 1.0,\n",
    "    )\n",
    "configs.append(init_conf)\n",
    "#configs.append(RunConfig( loss_scale_clip = 1.0))\n",
    "\n",
    "for conf in configs:\n",
    "    conf.loss_scale[\"tv\"] = 1\n",
    "    conf.loss_function[\"tv\"] = \"squared_relu\"\n",
    "    conf.loss_calculate[\"rn\"] = True\n",
    "    conf.loss_calculate[\"tv\"] = True\n",
    "    conf.loss_calculate[\"lpips_vgg\"] = False\n",
    "    conf.loss_function[\"rn\"] = \"mse\"\n",
    "    conf.optimization_space = \"image\"\n",
    "    conf.iterations = 3000\n",
    "\n",
    "img_path = \"Images/14042.jpg\"\n",
    "\n",
    "\n",
    "result = run_reconstructions(img_path=img_path, config=init_conf,\n",
    "                    img_logging_freq=100, reconstructions_per_img=4,\n",
    "                    clip_suite=clip_suite, run_tags=[\"ref_vgg16_loss\", \"init\", \"test\"])"
   ]
  },
  {
   "cell_type": "code",
   "execution_count": 6,
   "metadata": {},
   "outputs": [
    {
     "name": "stdout",
     "output_type": "stream",
     "text": [
      "torch.Size([2048, 7, 7])\n",
      "Loading model from ./checkpoints/rn_to_imclip_linear_mapping_2048_1024_1024/2024-12-14T18:12:58_epoch_00_batch_000700.pth\n"
     ]
    },
    {
     "name": "stderr",
     "output_type": "stream",
     "text": [
      "/home/woody/iwi1/iwi1106h/Projects/BUBE/inversion/utils.py:284: FutureWarning: You are using `torch.load` with `weights_only=False` (the current default value), which uses the default pickle module implicitly. It is possible to construct malicious pickle data which will execute arbitrary code during unpickling (See https://github.com/pytorch/pytorch/blob/main/SECURITY.md#untrusted-models for more details). In a future release, the default value for `weights_only` will be flipped to `True`. This limits the functions that could be executed during unpickling. Arbitrary objects will no longer be allowed to be loaded via this mode unless they are explicitly allowlisted by the user via `torch.serialization.add_safe_globals`. We recommend you start setting `weights_only=True` for any use case where you don't have full control of the loaded file. Please open an issue on GitHub for any issues related to this experimental feature.\n",
      "  model.load_state_dict(torch.load(checkpoints[-1]))\n"
     ]
    },
    {
     "data": {
      "text/html": [
       "Finishing previous runs because reinit is set to 'default'."
      ],
      "text/plain": [
       "<IPython.core.display.HTML object>"
      ]
     },
     "metadata": {},
     "output_type": "display_data"
    },
    {
     "data": {
      "text/html": [],
      "text/plain": [
       "<IPython.core.display.HTML object>"
      ]
     },
     "metadata": {},
     "output_type": "display_data"
    },
    {
     "data": {
      "text/html": [
       " View run <strong style=\"color:#cdcd00\">ref_ref_resnet101_loss_rerun_test_rn-mse_1_tv-squared_relu_1_ref-resnet101-1_14042.jpg</strong> at: <a href='https://wandb.ai/team-cr/model-inversion-gen3/runs/t7m7cfml' target=\"_blank\">https://wandb.ai/team-cr/model-inversion-gen3/runs/t7m7cfml</a><br> View project at: <a href='https://wandb.ai/team-cr/model-inversion-gen3' target=\"_blank\">https://wandb.ai/team-cr/model-inversion-gen3</a><br>Synced 5 W&B file(s), 1 media file(s), 0 artifact file(s) and 0 other file(s)"
      ],
      "text/plain": [
       "<IPython.core.display.HTML object>"
      ]
     },
     "metadata": {},
     "output_type": "display_data"
    },
    {
     "data": {
      "text/html": [
       "Find logs at: <code>./wandb/run-20250828_214727-t7m7cfml/logs</code>"
      ],
      "text/plain": [
       "<IPython.core.display.HTML object>"
      ]
     },
     "metadata": {},
     "output_type": "display_data"
    },
    {
     "data": {
      "text/html": [
       "Tracking run with wandb version 0.21.1"
      ],
      "text/plain": [
       "<IPython.core.display.HTML object>"
      ]
     },
     "metadata": {},
     "output_type": "display_data"
    },
    {
     "data": {
      "text/html": [
       "Run data is saved locally in <code>/home/woody/iwi1/iwi1106h/Projects/BUBE/wandb/run-20250828_215411-ergxxkli</code>"
      ],
      "text/plain": [
       "<IPython.core.display.HTML object>"
      ]
     },
     "metadata": {},
     "output_type": "display_data"
    },
    {
     "data": {
      "text/html": [
       "Syncing run <strong><a href='https://wandb.ai/team-cr/model-inversion-gen3/runs/ergxxkli' target=\"_blank\">ref_ref_resnet101_loss_rerun_test_rn-mse_1_tv-squared_relu_1_ref-resnet101-1_14042.jpg</a></strong> to <a href='https://wandb.ai/team-cr/model-inversion-gen3' target=\"_blank\">Weights & Biases</a> (<a href='https://wandb.me/developer-guide' target=\"_blank\">docs</a>)<br>"
      ],
      "text/plain": [
       "<IPython.core.display.HTML object>"
      ]
     },
     "metadata": {},
     "output_type": "display_data"
    },
    {
     "data": {
      "text/html": [
       " View project at <a href='https://wandb.ai/team-cr/model-inversion-gen3' target=\"_blank\">https://wandb.ai/team-cr/model-inversion-gen3</a>"
      ],
      "text/plain": [
       "<IPython.core.display.HTML object>"
      ]
     },
     "metadata": {},
     "output_type": "display_data"
    },
    {
     "data": {
      "text/html": [
       " View run at <a href='https://wandb.ai/team-cr/model-inversion-gen3/runs/ergxxkli' target=\"_blank\">https://wandb.ai/team-cr/model-inversion-gen3/runs/ergxxkli</a>"
      ],
      "text/plain": [
       "<IPython.core.display.HTML object>"
      ]
     },
     "metadata": {},
     "output_type": "display_data"
    },
    {
     "data": {
      "text/html": [],
      "text/plain": [
       "<IPython.core.display.HTML object>"
      ]
     },
     "metadata": {},
     "output_type": "display_data"
    },
    {
     "data": {
      "text/html": [
       "<br>    <style><br>        .wandb-row {<br>            display: flex;<br>            flex-direction: row;<br>            flex-wrap: wrap;<br>            justify-content: flex-start;<br>            width: 100%;<br>        }<br>        .wandb-col {<br>            display: flex;<br>            flex-direction: column;<br>            flex-basis: 100%;<br>            flex: 1;<br>            padding: 10px;<br>        }<br>    </style><br><div class=\"wandb-row\"><div class=\"wandb-col\"><h3>Run history:</h3><br/><table class=\"wandb\"><tr><td>current_learning_rate</td><td>▁▁▁▁▁▁▁▁▁▁▁▁▁▁▁▁▁▁▁▁▁▁▁▁▁▁▁▁▁▁▁▁▁▁▁▁▁▁▁▁</td></tr><tr><td>current_resolution</td><td>▁▁▁▁▁▁▁▁▁▁▁▁▁▁▁▁▁▁▁▁▁▁▁▁▁▁▁▁▁▁▁█████████</td></tr></table><br/></div><div class=\"wandb-col\"><h3>Run summary:</h3><br/><table class=\"wandb\"><tr><td>current_learning_rate</td><td>10</td></tr><tr><td>current_resolution</td><td>64</td></tr></table><br/></div></div>"
      ],
      "text/plain": [
       "<IPython.core.display.HTML object>"
      ]
     },
     "metadata": {},
     "output_type": "display_data"
    },
    {
     "data": {
      "text/html": [
       " View run <strong style=\"color:#cdcd00\">ref_ref_resnet101_loss_rerun_test_rn-mse_1_tv-squared_relu_1_ref-resnet101-1_14042.jpg</strong> at: <a href='https://wandb.ai/team-cr/model-inversion-gen3/runs/ergxxkli' target=\"_blank\">https://wandb.ai/team-cr/model-inversion-gen3/runs/ergxxkli</a><br> View project at: <a href='https://wandb.ai/team-cr/model-inversion-gen3' target=\"_blank\">https://wandb.ai/team-cr/model-inversion-gen3</a><br>Synced 5 W&B file(s), 31 media file(s), 0 artifact file(s) and 0 other file(s)"
      ],
      "text/plain": [
       "<IPython.core.display.HTML object>"
      ]
     },
     "metadata": {},
     "output_type": "display_data"
    },
    {
     "data": {
      "text/html": [
       "Find logs at: <code>./wandb/run-20250828_215411-ergxxkli/logs</code>"
      ],
      "text/plain": [
       "<IPython.core.display.HTML object>"
      ]
     },
     "metadata": {},
     "output_type": "display_data"
    },
    {
     "name": "stdout",
     "output_type": "stream",
     "text": [
      "torch.Size([4096])\n",
      "Loading model from ./checkpoints/rn_to_imclip_linear_mapping_2048_1024_1024/2024-12-14T18:12:58_epoch_00_batch_000700.pth\n"
     ]
    },
    {
     "name": "stderr",
     "output_type": "stream",
     "text": [
      "/home/woody/iwi1/iwi1106h/Projects/BUBE/inversion/utils.py:284: FutureWarning: You are using `torch.load` with `weights_only=False` (the current default value), which uses the default pickle module implicitly. It is possible to construct malicious pickle data which will execute arbitrary code during unpickling (See https://github.com/pytorch/pytorch/blob/main/SECURITY.md#untrusted-models for more details). In a future release, the default value for `weights_only` will be flipped to `True`. This limits the functions that could be executed during unpickling. Arbitrary objects will no longer be allowed to be loaded via this mode unless they are explicitly allowlisted by the user via `torch.serialization.add_safe_globals`. We recommend you start setting `weights_only=True` for any use case where you don't have full control of the loaded file. Please open an issue on GitHub for any issues related to this experimental feature.\n",
      "  model.load_state_dict(torch.load(checkpoints[-1]))\n"
     ]
    },
    {
     "data": {
      "text/html": [
       "Tracking run with wandb version 0.21.1"
      ],
      "text/plain": [
       "<IPython.core.display.HTML object>"
      ]
     },
     "metadata": {},
     "output_type": "display_data"
    },
    {
     "data": {
      "text/html": [
       "Run data is saved locally in <code>/home/woody/iwi1/iwi1106h/Projects/BUBE/wandb/run-20250828_215448-n5q68smc</code>"
      ],
      "text/plain": [
       "<IPython.core.display.HTML object>"
      ]
     },
     "metadata": {},
     "output_type": "display_data"
    },
    {
     "data": {
      "text/html": [
       "Syncing run <strong><a href='https://wandb.ai/team-cr/model-inversion-gen3/runs/n5q68smc' target=\"_blank\">ref_ref_vgg16_loss_rerun_test_rn-mse_1_tv-squared_relu_1_ref-vgg16-1_14042.jpg</a></strong> to <a href='https://wandb.ai/team-cr/model-inversion-gen3' target=\"_blank\">Weights & Biases</a> (<a href='https://wandb.me/developer-guide' target=\"_blank\">docs</a>)<br>"
      ],
      "text/plain": [
       "<IPython.core.display.HTML object>"
      ]
     },
     "metadata": {},
     "output_type": "display_data"
    },
    {
     "data": {
      "text/html": [
       " View project at <a href='https://wandb.ai/team-cr/model-inversion-gen3' target=\"_blank\">https://wandb.ai/team-cr/model-inversion-gen3</a>"
      ],
      "text/plain": [
       "<IPython.core.display.HTML object>"
      ]
     },
     "metadata": {},
     "output_type": "display_data"
    },
    {
     "data": {
      "text/html": [
       " View run at <a href='https://wandb.ai/team-cr/model-inversion-gen3/runs/n5q68smc' target=\"_blank\">https://wandb.ai/team-cr/model-inversion-gen3/runs/n5q68smc</a>"
      ],
      "text/plain": [
       "<IPython.core.display.HTML object>"
      ]
     },
     "metadata": {},
     "output_type": "display_data"
    },
    {
     "data": {
      "text/html": [],
      "text/plain": [
       "<IPython.core.display.HTML object>"
      ]
     },
     "metadata": {},
     "output_type": "display_data"
    },
    {
     "data": {
      "text/html": [
       "<br>    <style><br>        .wandb-row {<br>            display: flex;<br>            flex-direction: row;<br>            flex-wrap: wrap;<br>            justify-content: flex-start;<br>            width: 100%;<br>        }<br>        .wandb-col {<br>            display: flex;<br>            flex-direction: column;<br>            flex-basis: 100%;<br>            flex: 1;<br>            padding: 10px;<br>        }<br>    </style><br><div class=\"wandb-row\"><div class=\"wandb-col\"><h3>Run history:</h3><br/><table class=\"wandb\"><tr><td>current_learning_rate</td><td>▁▁▁▁▁▁▁▁▁▁▁▁▁▁▁▁▁▁▁▁▁▁▁▁▁▁▁▁▁▁▁▁▁▁▁▁▁▁▁▁</td></tr><tr><td>current_resolution</td><td>▁▁▁▁▁▁▁▁▁▁▁▁▁▁▁▁▁▁▁▁▁▁▁▁▁▁▁▁████████████</td></tr></table><br/></div><div class=\"wandb-col\"><h3>Run summary:</h3><br/><table class=\"wandb\"><tr><td>current_learning_rate</td><td>10</td></tr><tr><td>current_resolution</td><td>64</td></tr></table><br/></div></div>"
      ],
      "text/plain": [
       "<IPython.core.display.HTML object>"
      ]
     },
     "metadata": {},
     "output_type": "display_data"
    },
    {
     "data": {
      "text/html": [
       " View run <strong style=\"color:#cdcd00\">ref_ref_vgg16_loss_rerun_test_rn-mse_1_tv-squared_relu_1_ref-vgg16-1_14042.jpg</strong> at: <a href='https://wandb.ai/team-cr/model-inversion-gen3/runs/n5q68smc' target=\"_blank\">https://wandb.ai/team-cr/model-inversion-gen3/runs/n5q68smc</a><br> View project at: <a href='https://wandb.ai/team-cr/model-inversion-gen3' target=\"_blank\">https://wandb.ai/team-cr/model-inversion-gen3</a><br>Synced 5 W&B file(s), 31 media file(s), 0 artifact file(s) and 0 other file(s)"
      ],
      "text/plain": [
       "<IPython.core.display.HTML object>"
      ]
     },
     "metadata": {},
     "output_type": "display_data"
    },
    {
     "data": {
      "text/html": [
       "Find logs at: <code>./wandb/run-20250828_215448-n5q68smc/logs</code>"
      ],
      "text/plain": [
       "<IPython.core.display.HTML object>"
      ]
     },
     "metadata": {},
     "output_type": "display_data"
    },
    {
     "name": "stdout",
     "output_type": "stream",
     "text": [
      "torch.Size([768])\n",
      "Loading model from ./checkpoints/rn_to_imclip_linear_mapping_2048_1024_1024/2024-12-14T18:12:58_epoch_00_batch_000700.pth\n"
     ]
    },
    {
     "name": "stderr",
     "output_type": "stream",
     "text": [
      "/home/woody/iwi1/iwi1106h/Projects/BUBE/inversion/utils.py:284: FutureWarning: You are using `torch.load` with `weights_only=False` (the current default value), which uses the default pickle module implicitly. It is possible to construct malicious pickle data which will execute arbitrary code during unpickling (See https://github.com/pytorch/pytorch/blob/main/SECURITY.md#untrusted-models for more details). In a future release, the default value for `weights_only` will be flipped to `True`. This limits the functions that could be executed during unpickling. Arbitrary objects will no longer be allowed to be loaded via this mode unless they are explicitly allowlisted by the user via `torch.serialization.add_safe_globals`. We recommend you start setting `weights_only=True` for any use case where you don't have full control of the loaded file. Please open an issue on GitHub for any issues related to this experimental feature.\n",
      "  model.load_state_dict(torch.load(checkpoints[-1]))\n"
     ]
    },
    {
     "data": {
      "text/html": [
       "Tracking run with wandb version 0.21.1"
      ],
      "text/plain": [
       "<IPython.core.display.HTML object>"
      ]
     },
     "metadata": {},
     "output_type": "display_data"
    },
    {
     "data": {
      "text/html": [
       "Run data is saved locally in <code>/home/woody/iwi1/iwi1106h/Projects/BUBE/wandb/run-20250828_215510-0xlpssdo</code>"
      ],
      "text/plain": [
       "<IPython.core.display.HTML object>"
      ]
     },
     "metadata": {},
     "output_type": "display_data"
    },
    {
     "data": {
      "text/html": [
       "Syncing run <strong><a href='https://wandb.ai/team-cr/model-inversion-gen3/runs/0xlpssdo' target=\"_blank\">ref_ref_clip_loss_rerun_test_rn-mse_1_tv-squared_relu_1_ref-clip-1_14042.jpg</a></strong> to <a href='https://wandb.ai/team-cr/model-inversion-gen3' target=\"_blank\">Weights & Biases</a> (<a href='https://wandb.me/developer-guide' target=\"_blank\">docs</a>)<br>"
      ],
      "text/plain": [
       "<IPython.core.display.HTML object>"
      ]
     },
     "metadata": {},
     "output_type": "display_data"
    },
    {
     "data": {
      "text/html": [
       " View project at <a href='https://wandb.ai/team-cr/model-inversion-gen3' target=\"_blank\">https://wandb.ai/team-cr/model-inversion-gen3</a>"
      ],
      "text/plain": [
       "<IPython.core.display.HTML object>"
      ]
     },
     "metadata": {},
     "output_type": "display_data"
    },
    {
     "data": {
      "text/html": [
       " View run at <a href='https://wandb.ai/team-cr/model-inversion-gen3/runs/0xlpssdo' target=\"_blank\">https://wandb.ai/team-cr/model-inversion-gen3/runs/0xlpssdo</a>"
      ],
      "text/plain": [
       "<IPython.core.display.HTML object>"
      ]
     },
     "metadata": {},
     "output_type": "display_data"
    },
    {
     "data": {
      "text/html": [],
      "text/plain": [
       "<IPython.core.display.HTML object>"
      ]
     },
     "metadata": {},
     "output_type": "display_data"
    },
    {
     "data": {
      "text/html": [
       "<br>    <style><br>        .wandb-row {<br>            display: flex;<br>            flex-direction: row;<br>            flex-wrap: wrap;<br>            justify-content: flex-start;<br>            width: 100%;<br>        }<br>        .wandb-col {<br>            display: flex;<br>            flex-direction: column;<br>            flex-basis: 100%;<br>            flex: 1;<br>            padding: 10px;<br>        }<br>    </style><br><div class=\"wandb-row\"><div class=\"wandb-col\"><h3>Run history:</h3><br/><table class=\"wandb\"><tr><td>current_learning_rate</td><td>▁▁▁▁▁▁▁▁▁▁▁▁▁▁▁▁▁▁▁▁▁▁▁▁▁▁▁▁▁▁▁▁▁▁▁▁▁▁▁▁</td></tr><tr><td>current_resolution</td><td>▁▁▁▁▁▁▁▁▁▁▁▁▁▁▁▁▁▁▁▁▁▁▁▁▁▁▁▁▁▁██████████</td></tr></table><br/></div><div class=\"wandb-col\"><h3>Run summary:</h3><br/><table class=\"wandb\"><tr><td>current_learning_rate</td><td>10</td></tr><tr><td>current_resolution</td><td>64</td></tr></table><br/></div></div>"
      ],
      "text/plain": [
       "<IPython.core.display.HTML object>"
      ]
     },
     "metadata": {},
     "output_type": "display_data"
    },
    {
     "data": {
      "text/html": [
       " View run <strong style=\"color:#cdcd00\">ref_ref_clip_loss_rerun_test_rn-mse_1_tv-squared_relu_1_ref-clip-1_14042.jpg</strong> at: <a href='https://wandb.ai/team-cr/model-inversion-gen3/runs/0xlpssdo' target=\"_blank\">https://wandb.ai/team-cr/model-inversion-gen3/runs/0xlpssdo</a><br> View project at: <a href='https://wandb.ai/team-cr/model-inversion-gen3' target=\"_blank\">https://wandb.ai/team-cr/model-inversion-gen3</a><br>Synced 5 W&B file(s), 31 media file(s), 0 artifact file(s) and 0 other file(s)"
      ],
      "text/plain": [
       "<IPython.core.display.HTML object>"
      ]
     },
     "metadata": {},
     "output_type": "display_data"
    },
    {
     "data": {
      "text/html": [
       "Find logs at: <code>./wandb/run-20250828_215510-0xlpssdo/logs</code>"
      ],
      "text/plain": [
       "<IPython.core.display.HTML object>"
      ]
     },
     "metadata": {},
     "output_type": "display_data"
    }
   ],
   "source": [
    "network_inits = {\n",
    "    'resnet18': init_torch_resnet18,\n",
    "    'resnet34': init_torch_resnet34,\n",
    "    'resnet50': init_torch_resnet50,\n",
    "    'resnet101': init_torch_resnet101,\n",
    "    'resnet152': init_torch_resnet152,\n",
    "    'vgg16': init_torch_vgg16,\n",
    "    'vgg19': init_torch_vgg19,\n",
    "    'identity': init_torch_identity,\n",
    "    'clip': lambda: (lambda x: clip_suite.image_projector()(x).image_embeds),\n",
    "}\n",
    "\n",
    "for model_name in ['resnet101', 'vgg16', 'clip']:\n",
    "    conf = RunConfig(\n",
    "            loss_scale_tv=1,\n",
    "            loss_function_tv=\"squared_relu\",\n",
    "            loss_scale_rn=1,\n",
    "            loss_function_rn=\"mse\",\n",
    "        )\n",
    "    #configs.append(RunConfig( loss_scale_clip = 1.0))\n",
    "\n",
    "    #conf.loss_calculate[\"clip\"] = True\n",
    "    #conf.loss_calculate[\"lpips_alex\"] = True\n",
    "    #conf.loss_calculate[\"lpips_vgg\"] = True\n",
    "    #conf.loss_calculate[\"lpips_squeeze\"] = True\n",
    "    #conf.loss_calculate[\"avg\"][\"vgg16\"] = True\n",
    "    conf.loss_calculate[\"ref\"][model_name] = True\n",
    "    conf.loss_scale[\"ref\"][model_name] = 1\n",
    "    conf.optimization_space = \"image\"\n",
    "    conf.iterations = 500\n",
    "\n",
    "    model = network_inits[model_name]()\n",
    "    embeds = model(result[\"reconstructions\"])\n",
    "    embeds_avg = embeds.mean(dim=0, keepdim=False)\n",
    "\n",
    "    conf.ref_embedding[model_name] = embeds_avg\n",
    "    print(embeds_avg.shape)\n",
    "\n",
    "    run_reconstructions(img_path=img_path, config=conf,\n",
    "                        img_logging_freq=100, reconstructions_per_img=4,\n",
    "                        clip_suite=clip_suite, run_tags=[\"ref\", f\"ref_{model_name}_loss\", \"rerun\", \"test\"])"
   ]
  },
  {
   "cell_type": "code",
   "execution_count": null,
   "metadata": {},
   "outputs": [],
   "source": []
  },
  {
   "cell_type": "code",
   "execution_count": null,
   "metadata": {},
   "outputs": [],
   "source": []
  },
  {
   "cell_type": "code",
   "execution_count": 28,
   "metadata": {},
   "outputs": [
    {
     "name": "stdout",
     "output_type": "stream",
     "text": [
      "Loading model from ./checkpoints/rn_to_imclip_linear_mapping_2048_1024_1024/2024-12-14T18:12:58_epoch_00_batch_000700.pth\n"
     ]
    },
    {
     "name": "stderr",
     "output_type": "stream",
     "text": [
      "/home/hpc/iwi1/iwi1106h/Projects/BUBE/inversion/utils.py:184: FutureWarning: You are using `torch.load` with `weights_only=False` (the current default value), which uses the default pickle module implicitly. It is possible to construct malicious pickle data which will execute arbitrary code during unpickling (See https://github.com/pytorch/pytorch/blob/main/SECURITY.md#untrusted-models for more details). In a future release, the default value for `weights_only` will be flipped to `True`. This limits the functions that could be executed during unpickling. Arbitrary objects will no longer be allowed to be loaded via this mode unless they are explicitly allowlisted by the user via `torch.serialization.add_safe_globals`. We recommend you start setting `weights_only=True` for any use case where you don't have full control of the loaded file. Please open an issue on GitHub for any issues related to this experimental feature.\n",
      "  model.load_state_dict(torch.load(checkpoints[-1]))\n"
     ]
    },
    {
     "data": {
      "text/html": [
       "Tracking run with wandb version 0.21.0"
      ],
      "text/plain": [
       "<IPython.core.display.HTML object>"
      ]
     },
     "metadata": {},
     "output_type": "display_data"
    },
    {
     "data": {
      "text/html": [
       "Run data is saved locally in <code>/home/hpc/iwi1/iwi1106h/Projects/BUBE/wandb/run-20250730_181932-jxb0ei79</code>"
      ],
      "text/plain": [
       "<IPython.core.display.HTML object>"
      ]
     },
     "metadata": {},
     "output_type": "display_data"
    },
    {
     "data": {
      "text/html": [
       "Syncing run <strong><a href='https://wandb.ai/team-cr/model-inversion-gen3/runs/jxb0ei79' target=\"_blank\">ref_clip_loss_rerun_test_rn-mse_1.0_tv-squared_relu_1_ref-clip-1.0_14042.jpg</a></strong> to <a href='https://wandb.ai/team-cr/model-inversion-gen3' target=\"_blank\">Weights & Biases</a> (<a href='https://wandb.me/developer-guide' target=\"_blank\">docs</a>)<br>"
      ],
      "text/plain": [
       "<IPython.core.display.HTML object>"
      ]
     },
     "metadata": {},
     "output_type": "display_data"
    },
    {
     "data": {
      "text/html": [
       " View project at <a href='https://wandb.ai/team-cr/model-inversion-gen3' target=\"_blank\">https://wandb.ai/team-cr/model-inversion-gen3</a>"
      ],
      "text/plain": [
       "<IPython.core.display.HTML object>"
      ]
     },
     "metadata": {},
     "output_type": "display_data"
    },
    {
     "data": {
      "text/html": [
       " View run at <a href='https://wandb.ai/team-cr/model-inversion-gen3/runs/jxb0ei79' target=\"_blank\">https://wandb.ai/team-cr/model-inversion-gen3/runs/jxb0ei79</a>"
      ],
      "text/plain": [
       "<IPython.core.display.HTML object>"
      ]
     },
     "metadata": {},
     "output_type": "display_data"
    },
    {
     "data": {
      "text/html": [],
      "text/plain": [
       "<IPython.core.display.HTML object>"
      ]
     },
     "metadata": {},
     "output_type": "display_data"
    },
    {
     "data": {
      "text/html": [
       "<br>    <style><br>        .wandb-row {<br>            display: flex;<br>            flex-direction: row;<br>            flex-wrap: wrap;<br>            justify-content: flex-start;<br>            width: 100%;<br>        }<br>        .wandb-col {<br>            display: flex;<br>            flex-direction: column;<br>            flex-basis: 100%;<br>            flex: 1;<br>            padding: 10px;<br>        }<br>    </style><br><div class=\"wandb-row\"><div class=\"wandb-col\"><h3>Run history:</h3><br/><table class=\"wandb\"><tr><td>correlation_pearson_vgg16_0_vs_1</td><td>█▆▆▂▆▆▂▅▅▃▅▄▅▄▂▅▄▃▇▃▆█▇▃▄▂▄▁▄▂▅▇▁▄▄▅▆▃▇▁</td></tr><tr><td>correlation_pearson_vgg16_2_vs_3</td><td>▇▇▅█▁█▇█▅▄▇▆▇▅▂▅▅▄▃▆▇▅▁▆▆▄█▄▄▇▂▆█▇▇▇▇▇█▅</td></tr><tr><td>correlation_pearson_vgg16_orig_vs_0</td><td>▁▁▂▁▁▃▂▂▂▂▃▃▄▅▃▅▄▃▄▄▅▅▅▆▆▄▆▇▄▄██▆█▅▇▇▇▇▇</td></tr><tr><td>correlation_pearson_vgg16_orig_vs_avg</td><td>▁▁▁▁▂▂▂▂▂▂▄▄▃▄▃▃▅▅▆▆▅▆▅▇▇▆▅▇██▇▇▇▇█▇▇█▇▇</td></tr><tr><td>correlation_pearson_vgg16_orig_vs_prod</td><td>▁▁▁▁▁▁▁▂▂▂▃▃▃▅▃▃▅▅▃▄▅▅▄▄▄▅▆▆▇▄▅▅▇██▇▆▇▇▆</td></tr><tr><td>correlation_spearman_vgg16_0_vs_1</td><td>▆▇▇▇█▇█▆▆▃▅▆▁▆▇▃▇▆▅▃▂▄▅▇▅▇▄▆█▄▄▆▃▆█▆█▆▄▆</td></tr><tr><td>correlation_spearman_vgg16_2_vs_3</td><td>█▄▅▄▆▂▂▂▄▂▃▃▂▄▁▁▅▅▅▂▂▃▃▅▄▄▅▅▄▆▅▄▄▃▂▃▄▄▃▆</td></tr><tr><td>correlation_spearman_vgg16_orig_vs_0</td><td>▂▁▁▂▃▂▂▃▄▂▅▃▃▂▅▄▅▇▃▆▅▇▆▇▅▄▇▄▅▄▇█▅▇▇█▄▆██</td></tr><tr><td>correlation_spearman_vgg16_orig_vs_avg</td><td>▁▁▁▂▁▃▃▃▄▄▆▆▆▅▇▇▆▇▆▅▇▆▇▆▅▇▆█▇▇▇▇███▇███▇</td></tr><tr><td>correlation_spearman_vgg16_orig_vs_prod</td><td>▂▁▁▁▂▂▂▃▃▄▃▃▃▅▄▃▆▅▆▄▆▇▆▆▆▆▇▆▅▇▇▆▆█▆▇█▇▆▇</td></tr><tr><td>current_learning_rate</td><td>▁▁▁▁▁▁▁▁▁▁▁▁▁▁▁▁▁▁▁▁▁▁▁▁▁▁▁▁▁▁▁▁▁▁▁▁▁▁▁▁</td></tr><tr><td>current_resolution</td><td>▁▁▁▁▂▂▂▂▂▅▅▅▅▅▅▅▅▅▅▅▅▅▅▅████████████████</td></tr><tr><td>nonzero_count_vgg16_0_vs_1</td><td>▃▄▅▄▅▆▄▄▃▄▄▃▃▁▅▃▄▂▄▃▆▂▄▆▇▃▆▄▇▇▇███▆▅▇▇▇▇</td></tr><tr><td>nonzero_count_vgg16_0_vs_1_a</td><td>▁▂▁▆▁▅▃▃▅▂▃▄▄▃▄▄▃▅▆▃▃▆▄▅▅▇█▇▇▇▂▇▆▄▆▃▆█▅▇</td></tr><tr><td>nonzero_count_vgg16_0_vs_1_b</td><td>▁▁▁▃▂▄▃▃▁▂▂▃▅▃▃▂▃▃▄▂▄▂▅▅▃▄▄▅▆▆▆▅▅▇▇▄▇▇▇█</td></tr><tr><td>nonzero_count_vgg16_2_vs_3</td><td>▃▁▃▃▄▃▄▅▄▄▃▅▃▄▅▃▅▅▄▃▄▅▂▁▆▆▄▄▃▁▇▇▂▃▇█▆▇▃▇</td></tr><tr><td>nonzero_count_vgg16_2_vs_3_a</td><td>▃▃▄▃▄▃▃▁▃▄▄▄▂▇▆█▄▆▇▄▄▆▅▃▄█▅█▆▃▇▇▇▇▇▇▇▅▆▄</td></tr><tr><td>nonzero_count_vgg16_2_vs_3_b</td><td>▁▃▂▅▆▅▄▆▅▆▅▆▅▃▅▆▆▆▄▆▇▆▅▅▆▆▇▃▇▇▆▅▇█▅▄▆▆▆█</td></tr><tr><td>nonzero_count_vgg16_orig_vs_0</td><td>▁▂▁▄▄▃▁▃▃▂▃▄▂▄▆▅▂▆▂▆▃▆▅▆▅▅▇▆▄█▇▇▆▇▄▇████</td></tr><tr><td>nonzero_count_vgg16_orig_vs_0_a</td><td>▁▁▁▁▁▁▁▁▁▁▁▁▁▁▁▁▁▁▁▁▁▁▁▁▁▁▁▁▁▁▁▁▁▁▁▁▁▁▁▁</td></tr><tr><td>nonzero_count_vgg16_orig_vs_0_b</td><td>▂▅▁▂▅▁▃▇▅▄▆▅▆▅▄▅▄▁▄▄▃▅▅▄▄▃▆▆▇▆▂▃▇▂█▆▇█▇█</td></tr><tr><td>nonzero_count_vgg16_orig_vs_avg</td><td>▁▃▄▃▃▂▄▂▄▅▅▅▅▅▅▆▅▇▆▆▆▇▇▇▆▆▇▇█▇▇██▇█▇██▇█</td></tr><tr><td>nonzero_count_vgg16_orig_vs_avg_a</td><td>▁▁▁▁▁▁▁▁▁▁▁▁▁▁▁▁▁▁▁▁▁▁▁▁▁▁▁▁▁▁▁▁▁▁▁▁▁▁▁▁</td></tr><tr><td>nonzero_count_vgg16_orig_vs_avg_b</td><td>▁▂▄▄▅▅▆▇▅▄▇▆▅▇▆▇▅▇█▆▅▆▅█▇▆▇▆▅▇█▇▆█▇▇▇▇▇▆</td></tr><tr><td>nonzero_count_vgg16_orig_vs_prod</td><td>▁▃▁▂▂▂▁▃▃▂▃▃▂▂▅▂▂▂▅▅▃▅▃▄▃▃▅▅▆▅▅▅▆▆▅█▆▄▅▆</td></tr><tr><td>nonzero_count_vgg16_orig_vs_prod_a</td><td>▁▁▁▁▁▁▁▁▁▁▁▁▁▁▁▁▁▁▁▁▁▁▁▁▁▁▁▁▁▁▁▁▁▁▁▁▁▁▁▁</td></tr><tr><td>nonzero_count_vgg16_orig_vs_prod_b</td><td>▃▄▃▄▃▄▃▃▂▃▁▁▁▂▂▃▆▁▂▃▂▆▃▄▂▇▂▃▄▆▅▆█▇▅▅▄▆█▇</td></tr></table><br/></div><div class=\"wandb-col\"><h3>Run summary:</h3><br/><table class=\"wandb\"><tr><td>correlation_pearson_vgg16_0_vs_1</td><td>0.73187</td></tr><tr><td>correlation_pearson_vgg16_2_vs_3</td><td>0.35285</td></tr><tr><td>correlation_pearson_vgg16_orig_vs_0</td><td>0.56382</td></tr><tr><td>correlation_pearson_vgg16_orig_vs_avg</td><td>0.59482</td></tr><tr><td>correlation_pearson_vgg16_orig_vs_prod</td><td>0.3609</td></tr><tr><td>correlation_spearman_vgg16_0_vs_1</td><td>0.68129</td></tr><tr><td>correlation_spearman_vgg16_2_vs_3</td><td>0.36826</td></tr><tr><td>correlation_spearman_vgg16_orig_vs_0</td><td>0.50663</td></tr><tr><td>correlation_spearman_vgg16_orig_vs_avg</td><td>0.50459</td></tr><tr><td>correlation_spearman_vgg16_orig_vs_prod</td><td>0.40428</td></tr><tr><td>current_learning_rate</td><td>10</td></tr><tr><td>current_resolution</td><td>224</td></tr><tr><td>nonzero_count_vgg16_0_vs_1</td><td>1029</td></tr><tr><td>nonzero_count_vgg16_0_vs_1_a</td><td>1432</td></tr><tr><td>nonzero_count_vgg16_0_vs_1_b</td><td>1359</td></tr><tr><td>nonzero_count_vgg16_2_vs_3</td><td>644</td></tr><tr><td>nonzero_count_vgg16_2_vs_3_a</td><td>1371</td></tr><tr><td>nonzero_count_vgg16_2_vs_3_b</td><td>1081</td></tr><tr><td>nonzero_count_vgg16_orig_vs_0</td><td>795</td></tr><tr><td>nonzero_count_vgg16_orig_vs_0_a</td><td>1170</td></tr><tr><td>nonzero_count_vgg16_orig_vs_0_b</td><td>1432</td></tr><tr><td>nonzero_count_vgg16_orig_vs_avg</td><td>990</td></tr><tr><td>nonzero_count_vgg16_orig_vs_avg_a</td><td>1170</td></tr><tr><td>nonzero_count_vgg16_orig_vs_avg_b</td><td>2237</td></tr><tr><td>nonzero_count_vgg16_orig_vs_prod</td><td>343</td></tr><tr><td>nonzero_count_vgg16_orig_vs_prod_a</td><td>1170</td></tr><tr><td>nonzero_count_vgg16_orig_vs_prod_b</td><td>464</td></tr></table><br/></div></div>"
      ],
      "text/plain": [
       "<IPython.core.display.HTML object>"
      ]
     },
     "metadata": {},
     "output_type": "display_data"
    },
    {
     "data": {
      "text/html": [
       " View run <strong style=\"color:#cdcd00\">ref_clip_loss_rerun_test_rn-mse_1.0_tv-squared_relu_1_ref-clip-1.0_14042.jpg</strong> at: <a href='https://wandb.ai/team-cr/model-inversion-gen3/runs/jxb0ei79' target=\"_blank\">https://wandb.ai/team-cr/model-inversion-gen3/runs/jxb0ei79</a><br> View project at: <a href='https://wandb.ai/team-cr/model-inversion-gen3' target=\"_blank\">https://wandb.ai/team-cr/model-inversion-gen3</a><br>Synced 5 W&B file(s), 156 media file(s), 0 artifact file(s) and 0 other file(s)"
      ],
      "text/plain": [
       "<IPython.core.display.HTML object>"
      ]
     },
     "metadata": {},
     "output_type": "display_data"
    },
    {
     "data": {
      "text/html": [
       "Find logs at: <code>./wandb/run-20250730_181932-jxb0ei79/logs</code>"
      ],
      "text/plain": [
       "<IPython.core.display.HTML object>"
      ]
     },
     "metadata": {},
     "output_type": "display_data"
    },
    {
     "name": "stdout",
     "output_type": "stream",
     "text": [
      "Loading model from ./checkpoints/rn_to_imclip_linear_mapping_2048_1024_1024/2024-12-14T18:12:58_epoch_00_batch_000700.pth\n"
     ]
    },
    {
     "name": "stderr",
     "output_type": "stream",
     "text": [
      "/home/hpc/iwi1/iwi1106h/Projects/BUBE/inversion/utils.py:184: FutureWarning: You are using `torch.load` with `weights_only=False` (the current default value), which uses the default pickle module implicitly. It is possible to construct malicious pickle data which will execute arbitrary code during unpickling (See https://github.com/pytorch/pytorch/blob/main/SECURITY.md#untrusted-models for more details). In a future release, the default value for `weights_only` will be flipped to `True`. This limits the functions that could be executed during unpickling. Arbitrary objects will no longer be allowed to be loaded via this mode unless they are explicitly allowlisted by the user via `torch.serialization.add_safe_globals`. We recommend you start setting `weights_only=True` for any use case where you don't have full control of the loaded file. Please open an issue on GitHub for any issues related to this experimental feature.\n",
      "  model.load_state_dict(torch.load(checkpoints[-1]))\n"
     ]
    },
    {
     "data": {
      "text/html": [
       "Tracking run with wandb version 0.21.0"
      ],
      "text/plain": [
       "<IPython.core.display.HTML object>"
      ]
     },
     "metadata": {},
     "output_type": "display_data"
    },
    {
     "data": {
      "text/html": [
       "Run data is saved locally in <code>/home/hpc/iwi1/iwi1106h/Projects/BUBE/wandb/run-20250730_183218-ahh6iggv</code>"
      ],
      "text/plain": [
       "<IPython.core.display.HTML object>"
      ]
     },
     "metadata": {},
     "output_type": "display_data"
    },
    {
     "data": {
      "text/html": [
       "Syncing run <strong><a href='https://wandb.ai/team-cr/model-inversion-gen3/runs/ahh6iggv' target=\"_blank\">ref_vgg16_loss_rerun_test_rn-mse_1.0_tv-squared_relu_1_ref-vgg16-1.0_14042.jpg</a></strong> to <a href='https://wandb.ai/team-cr/model-inversion-gen3' target=\"_blank\">Weights & Biases</a> (<a href='https://wandb.me/developer-guide' target=\"_blank\">docs</a>)<br>"
      ],
      "text/plain": [
       "<IPython.core.display.HTML object>"
      ]
     },
     "metadata": {},
     "output_type": "display_data"
    },
    {
     "data": {
      "text/html": [
       " View project at <a href='https://wandb.ai/team-cr/model-inversion-gen3' target=\"_blank\">https://wandb.ai/team-cr/model-inversion-gen3</a>"
      ],
      "text/plain": [
       "<IPython.core.display.HTML object>"
      ]
     },
     "metadata": {},
     "output_type": "display_data"
    },
    {
     "data": {
      "text/html": [
       " View run at <a href='https://wandb.ai/team-cr/model-inversion-gen3/runs/ahh6iggv' target=\"_blank\">https://wandb.ai/team-cr/model-inversion-gen3/runs/ahh6iggv</a>"
      ],
      "text/plain": [
       "<IPython.core.display.HTML object>"
      ]
     },
     "metadata": {},
     "output_type": "display_data"
    },
    {
     "data": {
      "text/html": [],
      "text/plain": [
       "<IPython.core.display.HTML object>"
      ]
     },
     "metadata": {},
     "output_type": "display_data"
    },
    {
     "data": {
      "text/html": [
       "<br>    <style><br>        .wandb-row {<br>            display: flex;<br>            flex-direction: row;<br>            flex-wrap: wrap;<br>            justify-content: flex-start;<br>            width: 100%;<br>        }<br>        .wandb-col {<br>            display: flex;<br>            flex-direction: column;<br>            flex-basis: 100%;<br>            flex: 1;<br>            padding: 10px;<br>        }<br>    </style><br><div class=\"wandb-row\"><div class=\"wandb-col\"><h3>Run history:</h3><br/><table class=\"wandb\"><tr><td>correlation_pearson_vgg16_0_vs_1</td><td>▄▇▄▁▄▅▅▅▆▄▆▆▄▆▃▇▄▄▅▇▇▆▆█▇▆▄▇▆▇▆█▆██▇▇█▇▇</td></tr><tr><td>correlation_pearson_vgg16_2_vs_3</td><td>▅▁▆▇▄▄▄▂▂▃▆▇▄▆▆▆▆▇▇▆▇▇▇▇█▇██▅▇▇▇▇██▇█▇▇▆</td></tr><tr><td>correlation_pearson_vgg16_orig_vs_0</td><td>▅▁▁▆▂▂▅▇▆█▆▇▆▅▇█▇▇▅▇▅▇█▆▇▇▅▆▇▇█▇▇▇▆█▇▇▇▆</td></tr><tr><td>correlation_pearson_vgg16_orig_vs_avg</td><td>▁▅▆▇▄▄▇█▆█▇▇▇▇▆▇▇█▇█▇██▇▇█▇▇▇█▇▇▇▇██▇▇▇▇</td></tr><tr><td>correlation_pearson_vgg16_orig_vs_prod</td><td>▁▄▂▄▆▆▇▇▇▇▇▇▇▆█▇▆▇▇▇▇▇▇▇█▇▇▇▇█▇▇▇█████▇▇</td></tr><tr><td>correlation_spearman_vgg16_0_vs_1</td><td>▂▃▃▅▇▃▁▂▆▇▆▆▅▄▁▇▇▄▆▇▆██▆█▇█▆█▇▆▇▆▇▇▇▇█▇▆</td></tr><tr><td>correlation_spearman_vgg16_2_vs_3</td><td>▃▃▃▁▃▅▄▅▆▆▆▆▃▄▄▆▇▆▆▇▅▆▇▄▆█▆▆▆█▆▇██▇▇▆▆█▇</td></tr><tr><td>correlation_spearman_vgg16_orig_vs_0</td><td>▂▆▁▃▆▂▆▆▇▄▇▆▇▄▇▇▇▇▆▆▆▆███▇▇▆▆█▇█▆▇▆█▆▇▇▇</td></tr><tr><td>correlation_spearman_vgg16_orig_vs_avg</td><td>▁▅▆▃▅▄▅▆▅▆▇▇▆▆▆▆▆▇▆▆▇▆▇▇█▇▇█▇▇▇▇▇▇▇▇█▇██</td></tr><tr><td>correlation_spearman_vgg16_orig_vs_prod</td><td>▃▂▁▅▄▅▃▃▅▆▇▅▆▇▆▆▆▇▇▇▅▇▆▆▇▇▆▇▇▇█▇▇▇▇█▇█▇█</td></tr><tr><td>current_learning_rate</td><td>▁▁▁▁▁▁▁▁▁▁▁▁▁▁▁▁▁▁▁▁▁▁▁▁▁▁▁▁▁▁▁▁▁▁▁▁▁▁▁▁</td></tr><tr><td>current_resolution</td><td>▁▁▁▁▁▁▁▁▂▂▂▂▂▂▅▅▅▅▅▅▅▅▅▅████████████████</td></tr><tr><td>nonzero_count_vgg16_0_vs_1</td><td>▃▃▇▃▃▆▆▄▆▆▄▆▁▅▇▆▅█▆▆▇▇▆▆▅▇▇▆▆▇█▆▇▇▆▇█▇█▆</td></tr><tr><td>nonzero_count_vgg16_0_vs_1_a</td><td>▇▁█▄▃▃█▃▇▂▆▅▆▆▆▅▅▆▇▆▅▆▄▆▆▅▆▆█▅▄▇▆▇▆█▆▆▄▅</td></tr><tr><td>nonzero_count_vgg16_0_vs_1_b</td><td>▂█▄▆▄▅▄▇█▆▁▂▃▅▆▅▆▃▇▄▅▇▄▇▆██▅▇▅▅▆▆▆▅▇▆▆▇▇</td></tr><tr><td>nonzero_count_vgg16_2_vs_3</td><td>▁▅▃▅▄▅▆▄▃▄▃▄▃▄▅▅▄▃▅▁▅▅▆▆▇▇▅▇█▃▄███▆▅▅▇▆▆</td></tr><tr><td>nonzero_count_vgg16_2_vs_3_a</td><td>▆▆█▄▆▂▆▂▄▄▅▄▅▁▆▆▃▇▇▃▅▂▂▇▆▇▄█▅▅█▅▇▅▆▇▆▃▆▇</td></tr><tr><td>nonzero_count_vgg16_2_vs_3_b</td><td>█▇▇█▄▁▅▁▇▇▆▆█▅▅▇▇▇▆▄▆▅▇▇▇▆▇▆▆▇▇▂▄▆█▇▆▅▆▇</td></tr><tr><td>nonzero_count_vgg16_orig_vs_0</td><td>▅▄▄▂▆▇▃▄█▄▄▁▇▇▇▆▅▆▇▆▄▄▃▅█▅▅▇▃▅█▅▆▇▅▇▇▆▅▆</td></tr><tr><td>nonzero_count_vgg16_orig_vs_0_a</td><td>▁▁▁▁▁▁▁▁▁▁▁▁▁▁▁▁▁▁▁▁▁▁▁▁▁▁▁▁▁▁▁▁▁▁▁▁▁▁▁▁</td></tr><tr><td>nonzero_count_vgg16_orig_vs_0_b</td><td>▁▂▂█▄▃▆▆▄▇▄▆▅▃▁▅▅█▅▅▆▆▇▇▆▇▆▆▆▅▆▆▆▅▆▄▅▆▄█</td></tr><tr><td>nonzero_count_vgg16_orig_vs_avg</td><td>▁▆█▇▇▇▇███▇▇▆▅▇▆▇▅▆▆▆█▆▆██▇▇▆▆▅▆▇▅▆▆▆▆▆▆</td></tr><tr><td>nonzero_count_vgg16_orig_vs_avg_a</td><td>▁▁▁▁▁▁▁▁▁▁▁▁▁▁▁▁▁▁▁▁▁▁▁▁▁▁▁▁▁▁▁▁▁▁▁▁▁▁▁▁</td></tr><tr><td>nonzero_count_vgg16_orig_vs_avg_b</td><td>▅▄▇▅▇█▄▆▃▅▄▄▄▃▂▃▂▂▂▄▃▂▁▄▂▁▃▂▂▂▄▁▃▄▄▁▃▃▂▁</td></tr><tr><td>nonzero_count_vgg16_orig_vs_prod</td><td>▅▁▁▅▄▅▂▃▄▅▅▅▅▄▅▆▅▃▆▆▆▄▄▆▅▇▇▇▇▆█▆█▇▇▆▇▇▆▆</td></tr><tr><td>nonzero_count_vgg16_orig_vs_prod_a</td><td>▁▁▁▁▁▁▁▁▁▁▁▁▁▁▁▁▁▁▁▁▁▁▁▁▁▁▁▁▁▁▁▁▁▁▁▁▁▁▁▁</td></tr><tr><td>nonzero_count_vgg16_orig_vs_prod_b</td><td>▄▂▃▃▁▃▅▂▅▄▄▅▆▆▅▆▅▅▆▅▆▅▆▆▆▆▆▅▆▆▆▇▆▇▅▆▇██▆</td></tr></table><br/></div><div class=\"wandb-col\"><h3>Run summary:</h3><br/><table class=\"wandb\"><tr><td>correlation_pearson_vgg16_0_vs_1</td><td>0.79246</td></tr><tr><td>correlation_pearson_vgg16_2_vs_3</td><td>0.9038</td></tr><tr><td>correlation_pearson_vgg16_orig_vs_0</td><td>0.42715</td></tr><tr><td>correlation_pearson_vgg16_orig_vs_avg</td><td>0.57991</td></tr><tr><td>correlation_pearson_vgg16_orig_vs_prod</td><td>0.36887</td></tr><tr><td>correlation_spearman_vgg16_0_vs_1</td><td>0.74209</td></tr><tr><td>correlation_spearman_vgg16_2_vs_3</td><td>0.84887</td></tr><tr><td>correlation_spearman_vgg16_orig_vs_0</td><td>0.3967</td></tr><tr><td>correlation_spearman_vgg16_orig_vs_avg</td><td>0.51643</td></tr><tr><td>correlation_spearman_vgg16_orig_vs_prod</td><td>0.48186</td></tr><tr><td>current_learning_rate</td><td>10</td></tr><tr><td>current_resolution</td><td>224</td></tr><tr><td>nonzero_count_vgg16_0_vs_1</td><td>1207</td></tr><tr><td>nonzero_count_vgg16_0_vs_1_a</td><td>1622</td></tr><tr><td>nonzero_count_vgg16_0_vs_1_b</td><td>1466</td></tr><tr><td>nonzero_count_vgg16_2_vs_3</td><td>1344</td></tr><tr><td>nonzero_count_vgg16_2_vs_3_a</td><td>1518</td></tr><tr><td>nonzero_count_vgg16_2_vs_3_b</td><td>1635</td></tr><tr><td>nonzero_count_vgg16_orig_vs_0</td><td>771</td></tr><tr><td>nonzero_count_vgg16_orig_vs_0_a</td><td>1170</td></tr><tr><td>nonzero_count_vgg16_orig_vs_0_b</td><td>1622</td></tr><tr><td>nonzero_count_vgg16_orig_vs_avg</td><td>987</td></tr><tr><td>nonzero_count_vgg16_orig_vs_avg_a</td><td>1170</td></tr><tr><td>nonzero_count_vgg16_orig_vs_avg_b</td><td>2146</td></tr><tr><td>nonzero_count_vgg16_orig_vs_prod</td><td>641</td></tr><tr><td>nonzero_count_vgg16_orig_vs_prod_a</td><td>1170</td></tr><tr><td>nonzero_count_vgg16_orig_vs_prod_b</td><td>1034</td></tr></table><br/></div></div>"
      ],
      "text/plain": [
       "<IPython.core.display.HTML object>"
      ]
     },
     "metadata": {},
     "output_type": "display_data"
    },
    {
     "data": {
      "text/html": [
       " View run <strong style=\"color:#cdcd00\">ref_vgg16_loss_rerun_test_rn-mse_1.0_tv-squared_relu_1_ref-vgg16-1.0_14042.jpg</strong> at: <a href='https://wandb.ai/team-cr/model-inversion-gen3/runs/ahh6iggv' target=\"_blank\">https://wandb.ai/team-cr/model-inversion-gen3/runs/ahh6iggv</a><br> View project at: <a href='https://wandb.ai/team-cr/model-inversion-gen3' target=\"_blank\">https://wandb.ai/team-cr/model-inversion-gen3</a><br>Synced 5 W&B file(s), 156 media file(s), 0 artifact file(s) and 0 other file(s)"
      ],
      "text/plain": [
       "<IPython.core.display.HTML object>"
      ]
     },
     "metadata": {},
     "output_type": "display_data"
    },
    {
     "data": {
      "text/html": [
       "Find logs at: <code>./wandb/run-20250730_183218-ahh6iggv/logs</code>"
      ],
      "text/plain": [
       "<IPython.core.display.HTML object>"
      ]
     },
     "metadata": {},
     "output_type": "display_data"
    },
    {
     "name": "stdout",
     "output_type": "stream",
     "text": [
      "Loading model from ./checkpoints/rn_to_imclip_linear_mapping_2048_1024_1024/2024-12-14T18:12:58_epoch_00_batch_000700.pth\n"
     ]
    },
    {
     "name": "stderr",
     "output_type": "stream",
     "text": [
      "/home/hpc/iwi1/iwi1106h/Projects/BUBE/inversion/utils.py:184: FutureWarning: You are using `torch.load` with `weights_only=False` (the current default value), which uses the default pickle module implicitly. It is possible to construct malicious pickle data which will execute arbitrary code during unpickling (See https://github.com/pytorch/pytorch/blob/main/SECURITY.md#untrusted-models for more details). In a future release, the default value for `weights_only` will be flipped to `True`. This limits the functions that could be executed during unpickling. Arbitrary objects will no longer be allowed to be loaded via this mode unless they are explicitly allowlisted by the user via `torch.serialization.add_safe_globals`. We recommend you start setting `weights_only=True` for any use case where you don't have full control of the loaded file. Please open an issue on GitHub for any issues related to this experimental feature.\n",
      "  model.load_state_dict(torch.load(checkpoints[-1]))\n"
     ]
    },
    {
     "data": {
      "text/html": [
       "Tracking run with wandb version 0.21.0"
      ],
      "text/plain": [
       "<IPython.core.display.HTML object>"
      ]
     },
     "metadata": {},
     "output_type": "display_data"
    },
    {
     "data": {
      "text/html": [
       "Run data is saved locally in <code>/home/hpc/iwi1/iwi1106h/Projects/BUBE/wandb/run-20250730_184014-9msgj08q</code>"
      ],
      "text/plain": [
       "<IPython.core.display.HTML object>"
      ]
     },
     "metadata": {},
     "output_type": "display_data"
    },
    {
     "data": {
      "text/html": [
       "Syncing run <strong><a href='https://wandb.ai/team-cr/model-inversion-gen3/runs/9msgj08q' target=\"_blank\">ref_resnet18_loss_rerun_test_rn-mse_1.0_tv-squared_relu_1_ref-resnet18-1.0_14042.jpg</a></strong> to <a href='https://wandb.ai/team-cr/model-inversion-gen3' target=\"_blank\">Weights & Biases</a> (<a href='https://wandb.me/developer-guide' target=\"_blank\">docs</a>)<br>"
      ],
      "text/plain": [
       "<IPython.core.display.HTML object>"
      ]
     },
     "metadata": {},
     "output_type": "display_data"
    },
    {
     "data": {
      "text/html": [
       " View project at <a href='https://wandb.ai/team-cr/model-inversion-gen3' target=\"_blank\">https://wandb.ai/team-cr/model-inversion-gen3</a>"
      ],
      "text/plain": [
       "<IPython.core.display.HTML object>"
      ]
     },
     "metadata": {},
     "output_type": "display_data"
    },
    {
     "data": {
      "text/html": [
       " View run at <a href='https://wandb.ai/team-cr/model-inversion-gen3/runs/9msgj08q' target=\"_blank\">https://wandb.ai/team-cr/model-inversion-gen3/runs/9msgj08q</a>"
      ],
      "text/plain": [
       "<IPython.core.display.HTML object>"
      ]
     },
     "metadata": {},
     "output_type": "display_data"
    },
    {
     "data": {
      "text/html": [],
      "text/plain": [
       "<IPython.core.display.HTML object>"
      ]
     },
     "metadata": {},
     "output_type": "display_data"
    },
    {
     "data": {
      "text/html": [
       "<br>    <style><br>        .wandb-row {<br>            display: flex;<br>            flex-direction: row;<br>            flex-wrap: wrap;<br>            justify-content: flex-start;<br>            width: 100%;<br>        }<br>        .wandb-col {<br>            display: flex;<br>            flex-direction: column;<br>            flex-basis: 100%;<br>            flex: 1;<br>            padding: 10px;<br>        }<br>    </style><br><div class=\"wandb-row\"><div class=\"wandb-col\"><h3>Run history:</h3><br/><table class=\"wandb\"><tr><td>correlation_pearson_vgg16_0_vs_1</td><td>▇▅▃▆▆▅▅▆▅▂▂▅▄▅▅▇▃▇▁▂▇▆▂▇▆▆█▇▅▇▅▅▅▇▄▃▇▅▇▆</td></tr><tr><td>correlation_pearson_vgg16_2_vs_3</td><td>▅▅▇▇▇▆▁▆▆▇▅▆▄▇▅▄▇▆▅▄▅▅▅▄▅▆▆▆▅▆▇▅▇██▅▄▇▇▇</td></tr><tr><td>correlation_pearson_vgg16_orig_vs_0</td><td>▂▂▂▁▃▅▄▂▃▂▄▆▂▆▄▆▅▇▇▇▇▆▄█▇▆▆▄▇█▄██▆▇▄██▇▇</td></tr><tr><td>correlation_pearson_vgg16_orig_vs_avg</td><td>▁▁▃▄▃▄▅▅▅▇▇▇▇▆▇▆▇▇▆▇▇▆▇▆▆▆▇▆▇███▇█▇▆█▇▇▇</td></tr><tr><td>correlation_pearson_vgg16_orig_vs_prod</td><td>▁▁▁▁▂▃▃▂▄▄▅▅▄▆▄▅▆▃▆▇▅▄▆▅▅▄▆▇▇▇▇▇▅▅▇▅▆▆█▇</td></tr><tr><td>correlation_spearman_vgg16_0_vs_1</td><td>▅▃▅▅▂▆▄▃▆▄▅▃▄▁▄▆▅▄▄▅▄▂█▅▄▅▄▃▅▄▃▇▄▃▅▅▆▄▇▃</td></tr><tr><td>correlation_spearman_vgg16_2_vs_3</td><td>▄▆▆▄▅▂▆▅▁▅▅▄▅▃▆▄▇▁▆▆▆▂▇▅▅▄▇▂▆▃▄▃█▇▄█▅▂▄▅</td></tr><tr><td>correlation_spearman_vgg16_orig_vs_0</td><td>▂▁▂▁▂▂▂▅▅▆▂▆▆▆▆▅▅▇▅▆▄▆▇▆▇▅▆▅▆▆█▆▇▄▇▅█▆▇▅</td></tr><tr><td>correlation_spearman_vgg16_orig_vs_avg</td><td>▂▂▁▂▁▁▅▄▃▅▄▆▄▅▆▆▆▅▇▇▆▇▅▇▇█▆▇▇█▆▇█▇██████</td></tr><tr><td>correlation_spearman_vgg16_orig_vs_prod</td><td>▁▂▁▁▁▃▃▃▄▄▄▅▆▄▅▅▄▆▄▅▅▅▆▆▆▇██▆▇▇▅▆▆▆█▇▆▇▆</td></tr><tr><td>current_learning_rate</td><td>▁▁▁▁▁▁▁▁▁▁▁▁▁▁▁▁▁▁▁▁▁▁▁▁▁▁▁▁▁▁▁▁▁▁▁▁▁▁▁▁</td></tr><tr><td>current_resolution</td><td>▁▁▁▁▁▁▁▂▂▂▂▂▂▂▅▅▅▅▅▅▅▅▅▅▅▅██████████████</td></tr><tr><td>nonzero_count_vgg16_0_vs_1</td><td>▁▄▅▄▅▄▃▃▄▄▆▆▄▅▄▄▄▆▃▆▂▅▆▅▅▄▇▅▅▇▃▆▃▆▃█▄▅▇█</td></tr><tr><td>nonzero_count_vgg16_0_vs_1_a</td><td>▃▁▄▃▅▁▄▄▃▃▆▃▄▄▅▄▄▃▆▄▃▃▇█▄▃▃▅▄▄▅▅▅▄▅▆▃▅▅▅</td></tr><tr><td>nonzero_count_vgg16_0_vs_1_b</td><td>▁▃▄▁▃▄▅▃▂▃▃▅▃▃▃▅▆▆▆▅▇▅▅█▆▅▆▅▇▅▅▃▆▅▃▆▆▆▇▆</td></tr><tr><td>nonzero_count_vgg16_2_vs_3</td><td>▄▅▅▄▃▅▃▃▄▃▃▄▁▃▃▃▃▄▆▅▄▄▄▅▃▃▅▅▆▆▆▃█▇▅▆▆▅▄█</td></tr><tr><td>nonzero_count_vgg16_2_vs_3_a</td><td>▂▂▄▅▄▆▁▆▄▅▁▃▅▄▃▄▄▅▄▅▃▆▆▆▅▆█▇▆▅▆█▅▆▅▄▆▆▆▆</td></tr><tr><td>nonzero_count_vgg16_2_vs_3_b</td><td>▃▂▂▅▁▅▆▆▄▄▄▅▁▄▄▅█▅▆▆▆▆▆▇▅▆▅▆▆▃▅▇▇█▆▇█▄▇▅</td></tr><tr><td>nonzero_count_vgg16_orig_vs_0</td><td>▁▂▂▃▃▅▅▅▅▆▅▅▅▅▆▆▄▃▅▆▇▇▆▆▇▆▇▄█▅▃█▇██▇▇▇▆█</td></tr><tr><td>nonzero_count_vgg16_orig_vs_0_a</td><td>▁▁▁▁▁▁▁▁▁▁▁▁▁▁▁▁▁▁▁▁▁▁▁▁▁▁▁▁▁▁▁▁▁▁▁▁▁▁▁▁</td></tr><tr><td>nonzero_count_vgg16_orig_vs_0_b</td><td>▁▃▂▂▄▄▅▆▇▇▇▂▇▇▆▅█▃▆▅▆▆█▆▄▇▆▆▅▇▆▇▆█▇▆▇▅██</td></tr><tr><td>nonzero_count_vgg16_orig_vs_avg</td><td>▁▃▁▃▃▃▃▃▃▅▆▆▇▆▆▆▆█▇▇▇▇▇█▆▇▆▆▇██▇▇▇▇▇▇▇▇▇</td></tr><tr><td>nonzero_count_vgg16_orig_vs_avg_a</td><td>▁▁▁▁▁▁▁▁▁▁▁▁▁▁▁▁▁▁▁▁▁▁▁▁▁▁▁▁▁▁▁▁▁▁▁▁▁▁▁▁</td></tr><tr><td>nonzero_count_vgg16_orig_vs_avg_b</td><td>▁▅▆▇▄▄▃▃▄▆▄▄▆▅▅▆▆▅█▆▄▅▅▆▅▇██▇▅▇▆▅▆▆▆▇▇▆▇</td></tr><tr><td>nonzero_count_vgg16_orig_vs_prod</td><td>▁▁▂▁▁▄▂▂▄▃▄▆▃▅▇▆▆▆▅▇▄▅█▅▆▅▅▄▄▅▇▆█▇▇█▇▅▅▆</td></tr><tr><td>nonzero_count_vgg16_orig_vs_prod_a</td><td>▁▁▁▁▁▁▁▁▁▁▁▁▁▁▁▁▁▁▁▁▁▁▁▁▁▁▁▁▁▁▁▁▁▁▁▁▁▁▁▁</td></tr><tr><td>nonzero_count_vgg16_orig_vs_prod_b</td><td>▂▃▂▅▁▃▃▅▄▂▄▄▃▂▃▄▃▄▄▂▆▂▂▅▄▄▅▃▄▅▃▅█▆▆▅▅▅▅▅</td></tr></table><br/></div><div class=\"wandb-col\"><h3>Run summary:</h3><br/><table class=\"wandb\"><tr><td>correlation_pearson_vgg16_0_vs_1</td><td>0.50926</td></tr><tr><td>correlation_pearson_vgg16_2_vs_3</td><td>0.61746</td></tr><tr><td>correlation_pearson_vgg16_orig_vs_0</td><td>0.35438</td></tr><tr><td>correlation_pearson_vgg16_orig_vs_avg</td><td>0.50974</td></tr><tr><td>correlation_pearson_vgg16_orig_vs_prod</td><td>0.26395</td></tr><tr><td>correlation_spearman_vgg16_0_vs_1</td><td>0.47518</td></tr><tr><td>correlation_spearman_vgg16_2_vs_3</td><td>0.57805</td></tr><tr><td>correlation_spearman_vgg16_orig_vs_0</td><td>0.35061</td></tr><tr><td>correlation_spearman_vgg16_orig_vs_avg</td><td>0.45429</td></tr><tr><td>correlation_spearman_vgg16_orig_vs_prod</td><td>0.33641</td></tr><tr><td>current_learning_rate</td><td>10</td></tr><tr><td>current_resolution</td><td>224</td></tr><tr><td>nonzero_count_vgg16_0_vs_1</td><td>826</td></tr><tr><td>nonzero_count_vgg16_0_vs_1_a</td><td>1328</td></tr><tr><td>nonzero_count_vgg16_0_vs_1_b</td><td>1394</td></tr><tr><td>nonzero_count_vgg16_2_vs_3</td><td>902</td></tr><tr><td>nonzero_count_vgg16_2_vs_3_a</td><td>1288</td></tr><tr><td>nonzero_count_vgg16_2_vs_3_b</td><td>1414</td></tr><tr><td>nonzero_count_vgg16_orig_vs_0</td><td>648</td></tr><tr><td>nonzero_count_vgg16_orig_vs_0_a</td><td>1170</td></tr><tr><td>nonzero_count_vgg16_orig_vs_0_b</td><td>1328</td></tr><tr><td>nonzero_count_vgg16_orig_vs_avg</td><td>976</td></tr><tr><td>nonzero_count_vgg16_orig_vs_avg_a</td><td>1170</td></tr><tr><td>nonzero_count_vgg16_orig_vs_avg_b</td><td>2301</td></tr><tr><td>nonzero_count_vgg16_orig_vs_prod</td><td>329</td></tr><tr><td>nonzero_count_vgg16_orig_vs_prod_a</td><td>1170</td></tr><tr><td>nonzero_count_vgg16_orig_vs_prod_b</td><td>506</td></tr></table><br/></div></div>"
      ],
      "text/plain": [
       "<IPython.core.display.HTML object>"
      ]
     },
     "metadata": {},
     "output_type": "display_data"
    },
    {
     "data": {
      "text/html": [
       " View run <strong style=\"color:#cdcd00\">ref_resnet18_loss_rerun_test_rn-mse_1.0_tv-squared_relu_1_ref-resnet18-1.0_14042.jpg</strong> at: <a href='https://wandb.ai/team-cr/model-inversion-gen3/runs/9msgj08q' target=\"_blank\">https://wandb.ai/team-cr/model-inversion-gen3/runs/9msgj08q</a><br> View project at: <a href='https://wandb.ai/team-cr/model-inversion-gen3' target=\"_blank\">https://wandb.ai/team-cr/model-inversion-gen3</a><br>Synced 5 W&B file(s), 156 media file(s), 0 artifact file(s) and 0 other file(s)"
      ],
      "text/plain": [
       "<IPython.core.display.HTML object>"
      ]
     },
     "metadata": {},
     "output_type": "display_data"
    },
    {
     "data": {
      "text/html": [
       "Find logs at: <code>./wandb/run-20250730_184014-9msgj08q/logs</code>"
      ],
      "text/plain": [
       "<IPython.core.display.HTML object>"
      ]
     },
     "metadata": {},
     "output_type": "display_data"
    },
    {
     "name": "stdout",
     "output_type": "stream",
     "text": [
      "Loading model from ./checkpoints/rn_to_imclip_linear_mapping_2048_1024_1024/2024-12-14T18:12:58_epoch_00_batch_000700.pth\n"
     ]
    },
    {
     "name": "stderr",
     "output_type": "stream",
     "text": [
      "/home/hpc/iwi1/iwi1106h/Projects/BUBE/inversion/utils.py:184: FutureWarning: You are using `torch.load` with `weights_only=False` (the current default value), which uses the default pickle module implicitly. It is possible to construct malicious pickle data which will execute arbitrary code during unpickling (See https://github.com/pytorch/pytorch/blob/main/SECURITY.md#untrusted-models for more details). In a future release, the default value for `weights_only` will be flipped to `True`. This limits the functions that could be executed during unpickling. Arbitrary objects will no longer be allowed to be loaded via this mode unless they are explicitly allowlisted by the user via `torch.serialization.add_safe_globals`. We recommend you start setting `weights_only=True` for any use case where you don't have full control of the loaded file. Please open an issue on GitHub for any issues related to this experimental feature.\n",
      "  model.load_state_dict(torch.load(checkpoints[-1]))\n"
     ]
    },
    {
     "data": {
      "text/html": [
       "Tracking run with wandb version 0.21.0"
      ],
      "text/plain": [
       "<IPython.core.display.HTML object>"
      ]
     },
     "metadata": {},
     "output_type": "display_data"
    },
    {
     "data": {
      "text/html": [
       "Run data is saved locally in <code>/home/hpc/iwi1/iwi1106h/Projects/BUBE/wandb/run-20250730_184810-ow7injk7</code>"
      ],
      "text/plain": [
       "<IPython.core.display.HTML object>"
      ]
     },
     "metadata": {},
     "output_type": "display_data"
    },
    {
     "data": {
      "text/html": [
       "Syncing run <strong><a href='https://wandb.ai/team-cr/model-inversion-gen3/runs/ow7injk7' target=\"_blank\">ref_resnet50_loss_rerun_test_rn-mse_1.0_tv-squared_relu_1_ref-resnet50-1.0_14042.jpg</a></strong> to <a href='https://wandb.ai/team-cr/model-inversion-gen3' target=\"_blank\">Weights & Biases</a> (<a href='https://wandb.me/developer-guide' target=\"_blank\">docs</a>)<br>"
      ],
      "text/plain": [
       "<IPython.core.display.HTML object>"
      ]
     },
     "metadata": {},
     "output_type": "display_data"
    },
    {
     "data": {
      "text/html": [
       " View project at <a href='https://wandb.ai/team-cr/model-inversion-gen3' target=\"_blank\">https://wandb.ai/team-cr/model-inversion-gen3</a>"
      ],
      "text/plain": [
       "<IPython.core.display.HTML object>"
      ]
     },
     "metadata": {},
     "output_type": "display_data"
    },
    {
     "data": {
      "text/html": [
       " View run at <a href='https://wandb.ai/team-cr/model-inversion-gen3/runs/ow7injk7' target=\"_blank\">https://wandb.ai/team-cr/model-inversion-gen3/runs/ow7injk7</a>"
      ],
      "text/plain": [
       "<IPython.core.display.HTML object>"
      ]
     },
     "metadata": {},
     "output_type": "display_data"
    },
    {
     "data": {
      "text/html": [],
      "text/plain": [
       "<IPython.core.display.HTML object>"
      ]
     },
     "metadata": {},
     "output_type": "display_data"
    },
    {
     "data": {
      "text/html": [
       "<br>    <style><br>        .wandb-row {<br>            display: flex;<br>            flex-direction: row;<br>            flex-wrap: wrap;<br>            justify-content: flex-start;<br>            width: 100%;<br>        }<br>        .wandb-col {<br>            display: flex;<br>            flex-direction: column;<br>            flex-basis: 100%;<br>            flex: 1;<br>            padding: 10px;<br>        }<br>    </style><br><div class=\"wandb-row\"><div class=\"wandb-col\"><h3>Run history:</h3><br/><table class=\"wandb\"><tr><td>correlation_pearson_vgg16_0_vs_1</td><td>█▄▅▅▆▆▄▄▂▂▄▄▄▄▂▃▄▂▄▃▁▂▃▅▂▃▃▄▅▄▃▅▃▅▅▄▃▄▃▄</td></tr><tr><td>correlation_pearson_vgg16_2_vs_3</td><td>█▄█▅▇█▅▆▇▆▅▂▂▁▂▁▆▁▂▆▆▅▅▃▆▂▅▅▄▆▇▅▄▆▄▃▇▂▆▃</td></tr><tr><td>correlation_pearson_vgg16_orig_vs_0</td><td>▁▃▁▂▂▄▄▃▅▆▆▅▃▅▆▅▆▄▇▆▄▄▅▆▇▇▇▄▅▇▇▇█▇▆▇█▇██</td></tr><tr><td>correlation_pearson_vgg16_orig_vs_avg</td><td>▂▁▂▂▂▄▄▂▃▃▄▄▄▅▅▇▅▆▆▇▅▆▇▇▇▇▇▇▇▇█▇▇▇▇▇███▇</td></tr><tr><td>correlation_pearson_vgg16_orig_vs_prod</td><td>▁▁▁▁▂▁▁▁▁▂▃▃▃▂▂▄▄▅▅▅▄▆▅▅▄▄▇▇▆████▆▇▇██▇▇</td></tr><tr><td>correlation_spearman_vgg16_0_vs_1</td><td>▅█▆▄▆▇▅▄▁▂▆▃▄▄▂▄▄▄▄▄▁▄▅▄▅▅▃▂▃▅▆▅▅▅▅▄▅▅▅▅</td></tr><tr><td>correlation_spearman_vgg16_2_vs_3</td><td>▄█▄▆▅▆▅▄▄▁▃▄▅▄▃▅▂▅▅▃▆▄▃▃▅▄▃▅▃▆▅▆▃▄▆▆▄▇▅▄</td></tr><tr><td>correlation_spearman_vgg16_orig_vs_0</td><td>▂▁▁▁▂▂▄▂▄▂▃▄▄▄▄▃▅▆▆▄▆▄▆▇▇▆▅▇▇▇▇█▅▆▆▅██▇▇</td></tr><tr><td>correlation_spearman_vgg16_orig_vs_avg</td><td>▁▂▁▂▃▄▂▃▄▃▆▅▆▅▅▆▅▆▆▅▇▆▇▇█▇█▇▇▇▇█▇▇▇█▇█▇▇</td></tr><tr><td>correlation_spearman_vgg16_orig_vs_prod</td><td>▂▁▁▃▃▄▅▅▅▆▆▆▆▇▅▅▆▄▇▆▅▆▇▇▆▇▇▆▆█▇▇▇▆▇▇█▇▇▆</td></tr><tr><td>current_learning_rate</td><td>▁▁▁▁▁▁▁▁▁▁▁▁▁▁▁▁▁▁▁▁▁▁▁▁▁▁▁▁▁▁▁▁▁▁▁▁▁▁▁▁</td></tr><tr><td>current_resolution</td><td>▁▁▁▁▁▁▁▂▂▂▂▂▂▂▂▅▅▅▅▅▅▅▅▅▅▅██████████████</td></tr><tr><td>nonzero_count_vgg16_0_vs_1</td><td>▃▃▃▅▃▆▁▁▂▄▆▄▄▅▃▄▅▃▅▆▃▅▇▄▇▇▄▆▆▇▆▆▇▆▇▆▆█▂▅</td></tr><tr><td>nonzero_count_vgg16_0_vs_1_a</td><td>▁▄▂▂▅▃▃▃▄▄▃▂▄▃▃▆▃▆▅▆▄▄▃▄▂▆▆▅▆▇▆▅▆▄▇▅▄█▅█</td></tr><tr><td>nonzero_count_vgg16_0_vs_1_b</td><td>▂▂▂▁▁▆▅▆█▇▅▆▅▆▇▇▆▇▅▆▇▇▅▅▄▆▅▅▆▅▅▆▆▆▅▆▄▆▅▅</td></tr><tr><td>nonzero_count_vgg16_2_vs_3</td><td>▁▃▂▃▃▃▃▂▃▃▄▅▄▂▃▂▄▂▂▅▃▁▄▄▆▆▆▅▆▆▅▆▃█▇▇▇█▇▇</td></tr><tr><td>nonzero_count_vgg16_2_vs_3_a</td><td>▄▂▂▂▁▃▂▃▄▃▄▄▇▄▅▇▇▅▅██▇▄▂▆▆▇▆▅▇▅▅▇▄▄▅▆▇▆▄</td></tr><tr><td>nonzero_count_vgg16_2_vs_3_b</td><td>▁▃▃▂▂▂▂▂▄▃▁▂▃▃▅▄▂▄▃▄▃▁▄▄▅▄▄▆█▄▅▄▄▄▅▅▃▂▅▄</td></tr><tr><td>nonzero_count_vgg16_orig_vs_0</td><td>▂▂▁▂▁▃▄▃▃▃▃▄▅▄▄▄▄▅▅▆▅▅▄▆▆▆▇█▇▇▆▅▅▇▆███▇█</td></tr><tr><td>nonzero_count_vgg16_orig_vs_0_a</td><td>▁▁▁▁▁▁▁▁▁▁▁▁▁▁▁▁▁▁▁▁▁▁▁▁▁▁▁▁▁▁▁▁▁▁▁▁▁▁▁▁</td></tr><tr><td>nonzero_count_vgg16_orig_vs_0_b</td><td>▁▃▄▃▄▃▄▄▄▁▂▄▃▄▂▅▅▄▄▇▆▅▅▅▆▄▄▄▃▆▇▆▇▄▃█▇▇▇▇</td></tr><tr><td>nonzero_count_vgg16_orig_vs_avg</td><td>▁▁▂▂▂▂▂▃▄▄▅▄▃▅▆▅▅▄▅▆▆▆▆▇▆▆▇▇▇▆▇██▇█▇▇▇█▇</td></tr><tr><td>nonzero_count_vgg16_orig_vs_avg_a</td><td>▁▁▁▁▁▁▁▁▁▁▁▁▁▁▁▁▁▁▁▁▁▁▁▁▁▁▁▁▁▁▁▁▁▁▁▁▁▁▁▁</td></tr><tr><td>nonzero_count_vgg16_orig_vs_avg_b</td><td>▂▃▁▄▃▅▅▆▅▆▄▆▆▆█▅▆▆▆▆▆█▆▅▅▅▅▅▆▆▇▆▆▆▆▆▆▅▆█</td></tr><tr><td>nonzero_count_vgg16_orig_vs_prod</td><td>▂▂▁▂▁▂▁▂▂▂▅▅▃▅▆▅▆▇▆▅▅▅▅▄▄▆▅▆▆▅▅▅█▇▅▆▅▇█▇</td></tr><tr><td>nonzero_count_vgg16_orig_vs_prod_a</td><td>▁▁▁▁▁▁▁▁▁▁▁▁▁▁▁▁▁▁▁▁▁▁▁▁▁▁▁▁▁▁▁▁▁▁▁▁▁▁▁▁</td></tr><tr><td>nonzero_count_vgg16_orig_vs_prod_b</td><td>▄▄▅▄▄▂▃▁▂▁▄▂▅▃▂▄▂▃▄▃▄▃▄▅▅▄▆▅▇▆▄▅▇▄▄▆▇█▇▅</td></tr></table><br/></div><div class=\"wandb-col\"><h3>Run summary:</h3><br/><table class=\"wandb\"><tr><td>correlation_pearson_vgg16_0_vs_1</td><td>0.54383</td></tr><tr><td>correlation_pearson_vgg16_2_vs_3</td><td>0.61472</td></tr><tr><td>correlation_pearson_vgg16_orig_vs_0</td><td>0.36092</td></tr><tr><td>correlation_pearson_vgg16_orig_vs_avg</td><td>0.58835</td></tr><tr><td>correlation_pearson_vgg16_orig_vs_prod</td><td>0.38195</td></tr><tr><td>correlation_spearman_vgg16_0_vs_1</td><td>0.53357</td></tr><tr><td>correlation_spearman_vgg16_2_vs_3</td><td>0.57822</td></tr><tr><td>correlation_spearman_vgg16_orig_vs_0</td><td>0.35225</td></tr><tr><td>correlation_spearman_vgg16_orig_vs_avg</td><td>0.50073</td></tr><tr><td>correlation_spearman_vgg16_orig_vs_prod</td><td>0.41206</td></tr><tr><td>current_learning_rate</td><td>10</td></tr><tr><td>current_resolution</td><td>224</td></tr><tr><td>nonzero_count_vgg16_0_vs_1</td><td>1008</td></tr><tr><td>nonzero_count_vgg16_0_vs_1_a</td><td>1745</td></tr><tr><td>nonzero_count_vgg16_0_vs_1_b</td><td>1339</td></tr><tr><td>nonzero_count_vgg16_2_vs_3</td><td>813</td></tr><tr><td>nonzero_count_vgg16_2_vs_3_a</td><td>1254</td></tr><tr><td>nonzero_count_vgg16_2_vs_3_b</td><td>1205</td></tr><tr><td>nonzero_count_vgg16_orig_vs_0</td><td>776</td></tr><tr><td>nonzero_count_vgg16_orig_vs_0_a</td><td>1170</td></tr><tr><td>nonzero_count_vgg16_orig_vs_0_b</td><td>1745</td></tr><tr><td>nonzero_count_vgg16_orig_vs_avg</td><td>1001</td></tr><tr><td>nonzero_count_vgg16_orig_vs_avg_a</td><td>1170</td></tr><tr><td>nonzero_count_vgg16_orig_vs_avg_b</td><td>2352</td></tr><tr><td>nonzero_count_vgg16_orig_vs_prod</td><td>397</td></tr><tr><td>nonzero_count_vgg16_orig_vs_prod_a</td><td>1170</td></tr><tr><td>nonzero_count_vgg16_orig_vs_prod_b</td><td>571</td></tr></table><br/></div></div>"
      ],
      "text/plain": [
       "<IPython.core.display.HTML object>"
      ]
     },
     "metadata": {},
     "output_type": "display_data"
    },
    {
     "data": {
      "text/html": [
       " View run <strong style=\"color:#cdcd00\">ref_resnet50_loss_rerun_test_rn-mse_1.0_tv-squared_relu_1_ref-resnet50-1.0_14042.jpg</strong> at: <a href='https://wandb.ai/team-cr/model-inversion-gen3/runs/ow7injk7' target=\"_blank\">https://wandb.ai/team-cr/model-inversion-gen3/runs/ow7injk7</a><br> View project at: <a href='https://wandb.ai/team-cr/model-inversion-gen3' target=\"_blank\">https://wandb.ai/team-cr/model-inversion-gen3</a><br>Synced 5 W&B file(s), 156 media file(s), 0 artifact file(s) and 0 other file(s)"
      ],
      "text/plain": [
       "<IPython.core.display.HTML object>"
      ]
     },
     "metadata": {},
     "output_type": "display_data"
    },
    {
     "data": {
      "text/html": [
       "Find logs at: <code>./wandb/run-20250730_184810-ow7injk7/logs</code>"
      ],
      "text/plain": [
       "<IPython.core.display.HTML object>"
      ]
     },
     "metadata": {},
     "output_type": "display_data"
    },
    {
     "name": "stdout",
     "output_type": "stream",
     "text": [
      "Loading model from ./checkpoints/rn_to_imclip_linear_mapping_2048_1024_1024/2024-12-14T18:12:58_epoch_00_batch_000700.pth\n"
     ]
    },
    {
     "name": "stderr",
     "output_type": "stream",
     "text": [
      "/home/hpc/iwi1/iwi1106h/Projects/BUBE/inversion/utils.py:184: FutureWarning: You are using `torch.load` with `weights_only=False` (the current default value), which uses the default pickle module implicitly. It is possible to construct malicious pickle data which will execute arbitrary code during unpickling (See https://github.com/pytorch/pytorch/blob/main/SECURITY.md#untrusted-models for more details). In a future release, the default value for `weights_only` will be flipped to `True`. This limits the functions that could be executed during unpickling. Arbitrary objects will no longer be allowed to be loaded via this mode unless they are explicitly allowlisted by the user via `torch.serialization.add_safe_globals`. We recommend you start setting `weights_only=True` for any use case where you don't have full control of the loaded file. Please open an issue on GitHub for any issues related to this experimental feature.\n",
      "  model.load_state_dict(torch.load(checkpoints[-1]))\n"
     ]
    },
    {
     "data": {
      "text/html": [
       "Tracking run with wandb version 0.21.0"
      ],
      "text/plain": [
       "<IPython.core.display.HTML object>"
      ]
     },
     "metadata": {},
     "output_type": "display_data"
    },
    {
     "data": {
      "text/html": [
       "Run data is saved locally in <code>/home/hpc/iwi1/iwi1106h/Projects/BUBE/wandb/run-20250730_185624-to50b4x1</code>"
      ],
      "text/plain": [
       "<IPython.core.display.HTML object>"
      ]
     },
     "metadata": {},
     "output_type": "display_data"
    },
    {
     "data": {
      "text/html": [
       "Syncing run <strong><a href='https://wandb.ai/team-cr/model-inversion-gen3/runs/to50b4x1' target=\"_blank\">ref_resnet152_loss_rerun_test_rn-mse_1.0_tv-squared_relu_1_ref-resnet152-1.0_14042.jpg</a></strong> to <a href='https://wandb.ai/team-cr/model-inversion-gen3' target=\"_blank\">Weights & Biases</a> (<a href='https://wandb.me/developer-guide' target=\"_blank\">docs</a>)<br>"
      ],
      "text/plain": [
       "<IPython.core.display.HTML object>"
      ]
     },
     "metadata": {},
     "output_type": "display_data"
    },
    {
     "data": {
      "text/html": [
       " View project at <a href='https://wandb.ai/team-cr/model-inversion-gen3' target=\"_blank\">https://wandb.ai/team-cr/model-inversion-gen3</a>"
      ],
      "text/plain": [
       "<IPython.core.display.HTML object>"
      ]
     },
     "metadata": {},
     "output_type": "display_data"
    },
    {
     "data": {
      "text/html": [
       " View run at <a href='https://wandb.ai/team-cr/model-inversion-gen3/runs/to50b4x1' target=\"_blank\">https://wandb.ai/team-cr/model-inversion-gen3/runs/to50b4x1</a>"
      ],
      "text/plain": [
       "<IPython.core.display.HTML object>"
      ]
     },
     "metadata": {},
     "output_type": "display_data"
    },
    {
     "data": {
      "text/html": [],
      "text/plain": [
       "<IPython.core.display.HTML object>"
      ]
     },
     "metadata": {},
     "output_type": "display_data"
    },
    {
     "data": {
      "text/html": [
       "<br>    <style><br>        .wandb-row {<br>            display: flex;<br>            flex-direction: row;<br>            flex-wrap: wrap;<br>            justify-content: flex-start;<br>            width: 100%;<br>        }<br>        .wandb-col {<br>            display: flex;<br>            flex-direction: column;<br>            flex-basis: 100%;<br>            flex: 1;<br>            padding: 10px;<br>        }<br>    </style><br><div class=\"wandb-row\"><div class=\"wandb-col\"><h3>Run history:</h3><br/><table class=\"wandb\"><tr><td>correlation_pearson_vgg16_0_vs_1</td><td>▅▇█▇▇▅▅▅▃▅▄▁▅▅▅▆▂▅▅▇▇▇▃▄▄▅▄▆▄▃▇▅▅▄▇▅▅▅▆▅</td></tr><tr><td>correlation_pearson_vgg16_2_vs_3</td><td>▇▂▆█▆▃▆█▆▇▃▂▂▄█▂▂▇▅▁▂▄▅▃▄█▂▇▆▇▅▄▅▆▅▅▇▃▂▄</td></tr><tr><td>correlation_pearson_vgg16_orig_vs_0</td><td>▁▃▂▂▅▃▂▂▄▅▄▅▅▂▁█▃▇▅█▇▇▆▇███▇██▆▇█▇▇▇▆▇▇▆</td></tr><tr><td>correlation_pearson_vgg16_orig_vs_avg</td><td>▁▂▂▂▃▃▄▃▄▆▆▅▆▇▆▆▆▆▇▇▇▇▇▆▇▇▇████▇▇█▇▇▇▇█▇</td></tr><tr><td>correlation_pearson_vgg16_orig_vs_prod</td><td>▁▁▁▁▁▁▁▁▃▄▂▄▄▂▃▃▅▄▄▅▃▆▆▆▅▆▇▆▆▇▇▇█▆▇██▇▇▆</td></tr><tr><td>correlation_spearman_vgg16_0_vs_1</td><td>▆▅█▅▄▇▅▆▅▃▄▂▅▄▅▆▂▄▁█▃▅▃▆▂▇▆▄▅▆█▇▆▅▅▆▄▅▇▇</td></tr><tr><td>correlation_spearman_vgg16_2_vs_3</td><td>█▆▇▄▇▄▆▁▆▃▁▂▆▆▇▅▂▄▃▄▆▂▄▄▂▄▆▃▆▃▆▁▅▆▆▅▅▃▅▅</td></tr><tr><td>correlation_spearman_vgg16_orig_vs_0</td><td>▁▃▃▃▄▅▄▅▄▄▃▇▇▄▆▆██▇▇████████▇█▅▇▇▇█▇▇▇▇▇</td></tr><tr><td>correlation_spearman_vgg16_orig_vs_avg</td><td>▁▂▂▂▃▁▄▄▃▄▅▄▄▅▄▄▄▆▇▇▇▆▇▇▆▆▇▇▆▇████▇█▇▇▇▇</td></tr><tr><td>correlation_spearman_vgg16_orig_vs_prod</td><td>▁▁▁▁▁▃▅▅▄▄▄▄▄▅▆▆▇▆█▆▇▇█▇██▇▇█▇▇█▇▆▆▇█▇▇▆</td></tr><tr><td>current_learning_rate</td><td>▁▁▁▁▁▁▁▁▁▁▁▁▁▁▁▁▁▁▁▁▁▁▁▁▁▁▁▁▁▁▁▁▁▁▁▁▁▁▁▁</td></tr><tr><td>current_resolution</td><td>▁▁▁▂▂▂▂▂▅▅▅▅▅▅▅▅▅▅▅▅▅▅▅▅▅▅██████████████</td></tr><tr><td>nonzero_count_vgg16_0_vs_1</td><td>▃▄▃▅▃▃▂▆▄▅▅▅▄▆▅▃▄▁▇▆▆▃▁▆▃▄▅▆▇█▅▅▄▆▇▅▆▆▄▅</td></tr><tr><td>nonzero_count_vgg16_0_vs_1_a</td><td>▁▂▂▆▂▃▇▇▅▅▇▅▇▇▆▅▅▂▅█▆▆▅▆▇▃▅▅▆▇▅▆▇▇█▃▆▆▄▄</td></tr><tr><td>nonzero_count_vgg16_0_vs_1_b</td><td>▃▂▄▄▅▆▅▆▆▆▅▆▆▅▆▇▃▆▇▆▆▇▆▃▇▄▄▁▇▇▅▇▇▆▅▇█▅▆▅</td></tr><tr><td>nonzero_count_vgg16_2_vs_3</td><td>▂▁▃▅▄▃▃▄▄▃▄▃▄▄▅▄▄▅▄▅▄▄▄▅▁▅▇▇▆▇▂▄▆▆▅▃▅▆▄█</td></tr><tr><td>nonzero_count_vgg16_2_vs_3_a</td><td>▁▂▃▂▂▅▃▂▆▄▃▃▅▆▆▅▇▄▅▄▄▂▆▂▄▆▆▅▅▄▇▄▇▆█▃▇▆██</td></tr><tr><td>nonzero_count_vgg16_2_vs_3_b</td><td>▃▁▁▅▄▃▅▅▆█▅▂▂▆▄▅██▅▃▇▆▆▆▆▅▆▆█▅▆▅▆▆▇▂▇▆▅▆</td></tr><tr><td>nonzero_count_vgg16_orig_vs_0</td><td>▃▁▁▃▃▆▄▄▄▃▃▇██▆▆▆▆▄▆▆▂▇█▅▅██▇█▇█▇▆▇▆▄▇▇▆</td></tr><tr><td>nonzero_count_vgg16_orig_vs_0_a</td><td>▁▁▁▁▁▁▁▁▁▁▁▁▁▁▁▁▁▁▁▁▁▁▁▁▁▁▁▁▁▁▁▁▁▁▁▁▁▁▁▁</td></tr><tr><td>nonzero_count_vgg16_orig_vs_0_b</td><td>▁▁▃▃▃▆▁▇▆▁▇▇▆▆▇▇▆▆▆▅▃▄▂▇█▆▇▅▆▆█▇▇▇▆▆▆▆▅▅</td></tr><tr><td>nonzero_count_vgg16_orig_vs_avg</td><td>▁▂▁▃▃▂▄▅▅▆▅▅▆▆▆▇▇▇▇██▇▆▇▇█▇███▇▇██▇█▇▆▆▇</td></tr><tr><td>nonzero_count_vgg16_orig_vs_avg_a</td><td>▁▁▁▁▁▁▁▁▁▁▁▁▁▁▁▁▁▁▁▁▁▁▁▁▁▁▁▁▁▁▁▁▁▁▁▁▁▁▁▁</td></tr><tr><td>nonzero_count_vgg16_orig_vs_avg_b</td><td>▁▃▃▄▄▃▃▅▇▆█▇▇▄▇▆▇▆▇▅▆▆█▆█▅▅▅▅▆▆▅▅▆▇▆▆▆▆▆</td></tr><tr><td>nonzero_count_vgg16_orig_vs_prod</td><td>▁▂▁▁▂▅▄▃▃▄▄▄▁▃▆▅▇▆▃▇▄▆▅▆▅▇▇▅█▅▆▇▅▆▆▆▇▆▆▆</td></tr><tr><td>nonzero_count_vgg16_orig_vs_prod_a</td><td>▁▁▁▁▁▁▁▁▁▁▁▁▁▁▁▁▁▁▁▁▁▁▁▁▁▁▁▁▁▁▁▁▁▁▁▁▁▁▁▁</td></tr><tr><td>nonzero_count_vgg16_orig_vs_prod_b</td><td>▂▁▁▁▂▃▂▄▂▄▂▃▃▅▂▂▃▄▆▄▄▄▂▅▇▆▃▇▆▃▅█▆▂▆▅▃▅█▃</td></tr></table><br/></div><div class=\"wandb-col\"><h3>Run summary:</h3><br/><table class=\"wandb\"><tr><td>correlation_pearson_vgg16_0_vs_1</td><td>0.38075</td></tr><tr><td>correlation_pearson_vgg16_2_vs_3</td><td>0.58606</td></tr><tr><td>correlation_pearson_vgg16_orig_vs_0</td><td>0.22951</td></tr><tr><td>correlation_pearson_vgg16_orig_vs_avg</td><td>0.54019</td></tr><tr><td>correlation_pearson_vgg16_orig_vs_prod</td><td>0.33023</td></tr><tr><td>correlation_spearman_vgg16_0_vs_1</td><td>0.38024</td></tr><tr><td>correlation_spearman_vgg16_2_vs_3</td><td>0.52513</td></tr><tr><td>correlation_spearman_vgg16_orig_vs_0</td><td>0.22733</td></tr><tr><td>correlation_spearman_vgg16_orig_vs_avg</td><td>0.48222</td></tr><tr><td>correlation_spearman_vgg16_orig_vs_prod</td><td>0.32403</td></tr><tr><td>current_learning_rate</td><td>10</td></tr><tr><td>current_resolution</td><td>224</td></tr><tr><td>nonzero_count_vgg16_0_vs_1</td><td>608</td></tr><tr><td>nonzero_count_vgg16_0_vs_1_a</td><td>970</td></tr><tr><td>nonzero_count_vgg16_0_vs_1_b</td><td>1388</td></tr><tr><td>nonzero_count_vgg16_2_vs_3</td><td>786</td></tr><tr><td>nonzero_count_vgg16_2_vs_3_a</td><td>1266</td></tr><tr><td>nonzero_count_vgg16_2_vs_3_b</td><td>1252</td></tr><tr><td>nonzero_count_vgg16_orig_vs_0</td><td>439</td></tr><tr><td>nonzero_count_vgg16_orig_vs_0_a</td><td>1170</td></tr><tr><td>nonzero_count_vgg16_orig_vs_0_b</td><td>970</td></tr><tr><td>nonzero_count_vgg16_orig_vs_avg</td><td>987</td></tr><tr><td>nonzero_count_vgg16_orig_vs_avg_a</td><td>1170</td></tr><tr><td>nonzero_count_vgg16_orig_vs_avg_b</td><td>2225</td></tr><tr><td>nonzero_count_vgg16_orig_vs_prod</td><td>262</td></tr><tr><td>nonzero_count_vgg16_orig_vs_prod_a</td><td>1170</td></tr><tr><td>nonzero_count_vgg16_orig_vs_prod_b</td><td>378</td></tr></table><br/></div></div>"
      ],
      "text/plain": [
       "<IPython.core.display.HTML object>"
      ]
     },
     "metadata": {},
     "output_type": "display_data"
    },
    {
     "data": {
      "text/html": [
       " View run <strong style=\"color:#cdcd00\">ref_resnet152_loss_rerun_test_rn-mse_1.0_tv-squared_relu_1_ref-resnet152-1.0_14042.jpg</strong> at: <a href='https://wandb.ai/team-cr/model-inversion-gen3/runs/to50b4x1' target=\"_blank\">https://wandb.ai/team-cr/model-inversion-gen3/runs/to50b4x1</a><br> View project at: <a href='https://wandb.ai/team-cr/model-inversion-gen3' target=\"_blank\">https://wandb.ai/team-cr/model-inversion-gen3</a><br>Synced 5 W&B file(s), 156 media file(s), 0 artifact file(s) and 0 other file(s)"
      ],
      "text/plain": [
       "<IPython.core.display.HTML object>"
      ]
     },
     "metadata": {},
     "output_type": "display_data"
    },
    {
     "data": {
      "text/html": [
       "Find logs at: <code>./wandb/run-20250730_185624-to50b4x1/logs</code>"
      ],
      "text/plain": [
       "<IPython.core.display.HTML object>"
      ]
     },
     "metadata": {},
     "output_type": "display_data"
    }
   ],
   "source": [
    "for model_name in ['clip', 'vgg16', 'resnet18', 'resnet50', 'resnet152']:\n",
    "    conf = RunConfig(\n",
    "        )\n",
    "    #configs.append(RunConfig( loss_scale_clip = 1.0))\n",
    "\n",
    "    conf.loss_scale[\"tv\"] = 1\n",
    "    conf.loss_function[\"tv\"] = \"squared_relu\"\n",
    "    conf.loss_calculate[\"clip\"] = True\n",
    "    conf.loss_calculate[\"lpips_alex\"] = True\n",
    "    conf.loss_calculate[\"lpips_vgg\"] = True\n",
    "    conf.loss_calculate[\"lpips_squeeze\"] = True\n",
    "    conf.loss_calculate[\"rn\"] = True\n",
    "    conf.loss_calculate[\"tv\"] = True\n",
    "    conf.loss_function[\"rn\"] = \"mse\"\n",
    "    conf.loss_calculate[\"avg\"][\"vgg16\"] = True\n",
    "    conf.loss_calculate[\"ref\"][model_name] = True\n",
    "    conf.loss_scale[\"ref\"][model_name] = 1.0\n",
    "    conf.loss_scale[\"rn\"] = 1.0\n",
    "    conf.optimization_space = \"image\"\n",
    "    conf.iterations = 3000\n",
    "\n",
    "    model = network_inits[model_name]()\n",
    "    embeds = model(result[\"reconstructions\"])\n",
    "    embeds_avg = embeds.mean(dim=0, keepdim=False)\n",
    "    conf.ref_embedding[model_name] = embeds_avg\n",
    "\n",
    "    run_reconstructions(img_path=img_path, config=conf,\n",
    "                        img_logging_freq=100, reconstructions_per_img=4,\n",
    "                        clip_suite=clip_suite, run_tags=[f\"ref_{model_name}_loss\", \"rerun\", \"test\"])"
   ]
  },
  {
   "cell_type": "markdown",
   "metadata": {},
   "source": [
    "# Using GAN as initilalization"
   ]
  },
  {
   "cell_type": "code",
   "execution_count": null,
   "metadata": {},
   "outputs": [
    {
     "name": "stdout",
     "output_type": "stream",
     "text": [
      "Running reconstruction 1/1 with config 1/1: {'loss_scale': {'classification_1k': 0.0, 'clip': 0.0, 'rn': 1, 'sclip': 0.0, 'tv': 0.2, 'lpips_alex': 0.0, 'lpips_vgg': 0.0, 'lpips_squeeze': 0.0}, 'loss_calculate': {'classification_1k': True, 'rn': True, 'clip': True, 'sclip': False, 'tv': True, 'lpips_alex': False, 'lpips_vgg': False, 'lpips_squeeze': False}, 'loss_function': {'classification_1k': 'cosine_similarity', 'clip': 'cosine_similarity', 'rn': 'mse', 'sclip': 'cosine_similarity'}, 'init_method': 'gaussian', 'init_noising_factor': 0.0, 'scale_steps': {-1: 64, 900: 128, 1200: 224}, 'learning_rate': 10, 'learning_rate_changes': {}, 'iterations': 3000, 'fixed_gradient_length': True, 'optimization_space': 'gan_latent', 'optimization_space_changes': {600: 'image'}}\n"
     ]
    },
    {
     "name": "stderr",
     "output_type": "stream",
     "text": [
      "/home/hpc/iwi1/iwi1106h/Projects/BUBE/inversion/utils.py:128: FutureWarning: You are using `torch.load` with `weights_only=False` (the current default value), which uses the default pickle module implicitly. It is possible to construct malicious pickle data which will execute arbitrary code during unpickling (See https://github.com/pytorch/pytorch/blob/main/SECURITY.md#untrusted-models for more details). In a future release, the default value for `weights_only` will be flipped to `True`. This limits the functions that could be executed during unpickling. Arbitrary objects will no longer be allowed to be loaded via this mode unless they are explicitly allowlisted by the user via `torch.serialization.add_safe_globals`. We recommend you start setting `weights_only=True` for any use case where you don't have full control of the loaded file. Please open an issue on GitHub for any issues related to this experimental feature.\n",
      "  model.load_state_dict(torch.load(checkpoints[-1]))\n"
     ]
    },
    {
     "data": {
      "text/html": [
       "Finishing previous runs because reinit is set to 'default'."
      ],
      "text/plain": [
       "<IPython.core.display.HTML object>"
      ]
     },
     "metadata": {},
     "output_type": "display_data"
    },
    {
     "data": {
      "text/html": [],
      "text/plain": [
       "<IPython.core.display.HTML object>"
      ]
     },
     "metadata": {},
     "output_type": "display_data"
    },
    {
     "name": "stdout",
     "output_type": "stream",
     "text": [
      "Loading model from ./checkpoints/rn_to_imclip_linear_mapping_2048_1024_1024/2024-12-14T18:12:58_epoch_00_batch_000700.pth\n"
     ]
    },
    {
     "data": {
      "text/html": [
       "<br>    <style><br>        .wandb-row {<br>            display: flex;<br>            flex-direction: row;<br>            flex-wrap: wrap;<br>            justify-content: flex-start;<br>            width: 100%;<br>        }<br>        .wandb-col {<br>            display: flex;<br>            flex-direction: column;<br>            flex-basis: 100%;<br>            flex: 1;<br>            padding: 10px;<br>        }<br>    </style><br><div class=\"wandb-row\"><div class=\"wandb-col\"><h3>Run history:</h3><br/><table class=\"wandb\"><tr><td>current_learning_rate</td><td>▁▁▁▁▁▁▁▁▁▁▁▁▁▁▁▁▁▁▁▁▁▁▁▁▁▁▁▁▁▁▁▁▁▁▁▁▁▁▁▁</td></tr><tr><td>current_resolution</td><td>▁▁▁▁▁▁▁▁▁▁▁▁▁▁▁▁▁▁▁▁▁▁▁▁▁███████████████</td></tr></table><br/></div><div class=\"wandb-col\"><h3>Run summary:</h3><br/><table class=\"wandb\"><tr><td>current_learning_rate</td><td>10</td></tr><tr><td>current_resolution</td><td>64</td></tr></table><br/></div></div>"
      ],
      "text/plain": [
       "<IPython.core.display.HTML object>"
      ]
     },
     "metadata": {},
     "output_type": "display_data"
    },
    {
     "data": {
      "text/html": [
       " View run <strong style=\"color:#cdcd00\">clip-1.0_rn-0.0_sclip-0.0_tv-0.2_c1k-0.0_img-14042.jpg</strong> at: <a href='https://wandb.ai/team-cr/model-inversion/runs/xsqx6vdj' target=\"_blank\">https://wandb.ai/team-cr/model-inversion/runs/xsqx6vdj</a><br> View project at: <a href='https://wandb.ai/team-cr/model-inversion' target=\"_blank\">https://wandb.ai/team-cr/model-inversion</a><br>Synced 5 W&B file(s), 78 media file(s), 0 artifact file(s) and 0 other file(s)"
      ],
      "text/plain": [
       "<IPython.core.display.HTML object>"
      ]
     },
     "metadata": {},
     "output_type": "display_data"
    },
    {
     "data": {
      "text/html": [
       "Find logs at: <code>./wandb/run-20250728_200100-xsqx6vdj/logs</code>"
      ],
      "text/plain": [
       "<IPython.core.display.HTML object>"
      ]
     },
     "metadata": {},
     "output_type": "display_data"
    },
    {
     "data": {
      "text/html": [
       "Tracking run with wandb version 0.21.0"
      ],
      "text/plain": [
       "<IPython.core.display.HTML object>"
      ]
     },
     "metadata": {},
     "output_type": "display_data"
    },
    {
     "data": {
      "text/html": [
       "Run data is saved locally in <code>/home/hpc/iwi1/iwi1106h/Projects/BUBE/wandb/run-20250728_200524-ftv0ip3f</code>"
      ],
      "text/plain": [
       "<IPython.core.display.HTML object>"
      ]
     },
     "metadata": {},
     "output_type": "display_data"
    },
    {
     "data": {
      "text/html": [
       "Syncing run <strong><a href='https://wandb.ai/team-cr/model-inversion/runs/ftv0ip3f' target=\"_blank\">clip-0.0_rn-1_sclip-0.0_tv-0.2_c1k-0.0_img-14042.jpg</a></strong> to <a href='https://wandb.ai/team-cr/model-inversion' target=\"_blank\">Weights & Biases</a> (<a href='https://wandb.me/developer-guide' target=\"_blank\">docs</a>)<br>"
      ],
      "text/plain": [
       "<IPython.core.display.HTML object>"
      ]
     },
     "metadata": {},
     "output_type": "display_data"
    },
    {
     "data": {
      "text/html": [
       " View project at <a href='https://wandb.ai/team-cr/model-inversion' target=\"_blank\">https://wandb.ai/team-cr/model-inversion</a>"
      ],
      "text/plain": [
       "<IPython.core.display.HTML object>"
      ]
     },
     "metadata": {},
     "output_type": "display_data"
    },
    {
     "data": {
      "text/html": [
       " View run at <a href='https://wandb.ai/team-cr/model-inversion/runs/ftv0ip3f' target=\"_blank\">https://wandb.ai/team-cr/model-inversion/runs/ftv0ip3f</a>"
      ],
      "text/plain": [
       "<IPython.core.display.HTML object>"
      ]
     },
     "metadata": {},
     "output_type": "display_data"
    },
    {
     "name": "stdout",
     "output_type": "stream",
     "text": [
      "Loading model from ./checkpoints/DCGen_64_128_2048/2024-10-28T22:30:02_epoch_23.pth\n"
     ]
    },
    {
     "name": "stderr",
     "output_type": "stream",
     "text": [
      "/home/hpc/iwi1/iwi1106h/Projects/BUBE/inversion/utils.py:128: FutureWarning: You are using `torch.load` with `weights_only=False` (the current default value), which uses the default pickle module implicitly. It is possible to construct malicious pickle data which will execute arbitrary code during unpickling (See https://github.com/pytorch/pytorch/blob/main/SECURITY.md#untrusted-models for more details). In a future release, the default value for `weights_only` will be flipped to `True`. This limits the functions that could be executed during unpickling. Arbitrary objects will no longer be allowed to be loaded via this mode unless they are explicitly allowlisted by the user via `torch.serialization.add_safe_globals`. We recommend you start setting `weights_only=True` for any use case where you don't have full control of the loaded file. Please open an issue on GitHub for any issues related to this experimental feature.\n",
      "  model.load_state_dict(torch.load(checkpoints[-1]))\n"
     ]
    }
   ],
   "source": [
    "configs = []\n",
    "for noising_factor in [1.0]:\n",
    "    configs.append(RunConfig(\n",
    "        loss_scale_rn=1.0,\n",
    "        loss_scale_tv=0.2,\n",
    "        loss_scale_classification_1k=0.0,\n",
    "        loss_calculate_clip=True,\n",
    "        loss_calculate_rn=True,\n",
    "        loss_calculate_tv=True,\n",
    "        loss_calculate_classification_1k=True,\n",
    "        init_method=\"gan_v1\",\n",
    "        init_noising_factor=noising_factor,\n",
    "        iterations=3000,\n",
    "    ))\n",
    "\n",
    "configs = []\n",
    "configs.append(RunConfig(\n",
    "                loss_scale_rn=1,\n",
    "                loss_scale_tv=0.2,\n",
    "                loss_scale_classification_1k=0.0,\n",
    "                loss_scale_clip=0.0,\n",
    "                loss_calculate_clip=True,\n",
    "                loss_calculate_rn=True,\n",
    "                loss_calculate_tv=True,\n",
    "                loss_calculate_classification_1k=True,\n",
    "                loss_function_rn=\"mse\",\n",
    "                optimization_space=\"gan_latent\",\n",
    "                optimization_space_changes={ 600: \"image\" },\n",
    "                scale_steps={-1: 64, 900: 128, 1200: 224},\n",
    "                iterations=3000,\n",
    "))\n",
    "\n",
    "img_paths = [\"Images/14042.jpg\"]\n",
    "# img_paths = [\"Images/14034.jpg\"]\n",
    "\n",
    "for i, img_path in enumerate(img_paths):\n",
    "    for ii, config in enumerate(configs):\n",
    "        print(f\"Running reconstruction {i+1}/{len(img_paths)} with config {ii+1}/{len(configs)}: {config.get_as_dict()}\")\n",
    "        # Initialize a wand\n",
    "        run_reconstructions(img_path=img_path, config=config,\n",
    "                            img_logging_freq=50, reconstructions_per_img=10,\n",
    "                            clip_suite=clip_suite, run_tags=[\"gen2\", \"gan_init\", \"test\"])"
   ]
  },
  {
   "cell_type": "markdown",
   "metadata": {},
   "source": [
    "# CLIP loss"
   ]
  },
  {
   "cell_type": "markdown",
   "metadata": {},
   "source": [
    "# Reconstruction with diffusion steps"
   ]
  },
  {
   "cell_type": "markdown",
   "metadata": {},
   "source": [
    "## RN only"
   ]
  },
  {
   "cell_type": "code",
   "execution_count": null,
   "metadata": {},
   "outputs": [
    {
     "data": {
      "image/png": "[encoded data removed]",
      "text/plain": [
       "<Figure size 900x300 with 3 Axes>"
      ]
     },
     "metadata": {},
     "output_type": "display_data"
    },
    {
     "name": "stdout",
     "output_type": "stream",
     "text": [
      "Loading model from ./checkpoints/rn_to_imclip_linear_mapping_2048_1024_1024/2024-12-14T18:12:58_epoch_00_batch_000700.pth\n",
      "torch.Size([12, 3, 512, 512])\n",
      "torch.Size([12, 4, 64, 64])\n"
     ]
    },
    {
     "name": "stderr",
     "output_type": "stream",
     "text": [
      "/home/hpc/iwi1/iwi1106h/Projects/BUBE/inversion/utils.py:122: FutureWarning: You are using `torch.load` with `weights_only=False` (the current default value), which uses the default pickle module implicitly. It is possible to construct malicious pickle data which will execute arbitrary code during unpickling (See https://github.com/pytorch/pytorch/blob/main/SECURITY.md#untrusted-models for more details). In a future release, the default value for `weights_only` will be flipped to `True`. This limits the functions that could be executed during unpickling. Arbitrary objects will no longer be allowed to be loaded via this mode unless they are explicitly allowlisted by the user via `torch.serialization.add_safe_globals`. We recommend you start setting `weights_only=True` for any use case where you don't have full control of the loaded file. Please open an issue on GitHub for any issues related to this experimental feature.\n",
      "  model.load_state_dict(torch.load(checkpoints[-1]))\n"
     ]
    },
    {
     "name": "stdout",
     "output_type": "stream",
     "text": [
      "Iteration:    0, Loss: 0.5945, TV Loss: 1.8461, Total Loss: 0.9637\n"
     ]
    },
    {
     "data": {
      "text/markdown": [
       "![Plot](reconstruction_0000.png)"
      ],
      "text/plain": [
       "<IPython.core.display.Markdown object>"
      ]
     },
     "metadata": {},
     "output_type": "display_data"
    },
    {
     "name": "stdout",
     "output_type": "stream",
     "text": [
      "Iteration:   50, Loss: 0.2506, TV Loss: 1.1132, Total Loss: 0.4732\n",
      "Iteration:  100, Loss: 0.2243, TV Loss: 0.8286, Total Loss: 0.3900\n",
      "Iteration:  150, Loss: 0.2158, TV Loss: 0.7195, Total Loss: 0.3597\n",
      "torch.Size([12, 3, 512, 512])\n",
      "torch.Size([12, 4, 64, 64])\n",
      "Iteration:  200, Loss: 0.2244, TV Loss: 0.6588, Total Loss: 0.3562\n",
      "Iteration:  250, Loss: 0.1722, TV Loss: 0.6394, Total Loss: 0.3001\n",
      "Iteration:  300, Loss: 0.1384, TV Loss: 0.6250, Total Loss: 0.2634\n",
      "Iteration:  350, Loss: 0.1465, TV Loss: 0.6169, Total Loss: 0.2699\n",
      "torch.Size([12, 3, 512, 512])\n",
      "torch.Size([12, 4, 64, 64])\n",
      "Iteration:  400, Loss: 0.1638, TV Loss: 0.3054, Total Loss: 0.2249\n",
      "Iteration:  450, Loss: 0.0995, TV Loss: 0.3756, Total Loss: 0.1746\n",
      "Iteration:  500, Loss: 0.0725, TV Loss: 0.3878, Total Loss: 0.1501\n"
     ]
    },
    {
     "data": {
      "text/markdown": [
       "![Plot](reconstruction_0500.png)"
      ],
      "text/plain": [
       "<IPython.core.display.Markdown object>"
      ]
     },
     "metadata": {},
     "output_type": "display_data"
    },
    {
     "name": "stdout",
     "output_type": "stream",
     "text": [
      "Iteration:  550, Loss: 0.0706, TV Loss: 0.3911, Total Loss: 0.1489\n",
      "torch.Size([12, 3, 512, 512])\n",
      "torch.Size([12, 4, 64, 64])\n",
      "Iteration:  600, Loss: 0.0676, TV Loss: 0.3917, Total Loss: 0.1459\n",
      "Iteration:  650, Loss: 0.0699, TV Loss: 0.3911, Total Loss: 0.1481\n",
      "Iteration:  700, Loss: 0.0666, TV Loss: 0.3866, Total Loss: 0.1440\n",
      "Iteration:  750, Loss: 0.0721, TV Loss: 0.3864, Total Loss: 0.1494\n",
      "torch.Size([12, 3, 512, 512])\n",
      "torch.Size([12, 4, 64, 64])\n",
      "Iteration:  800, Loss: 0.0710, TV Loss: 0.3841, Total Loss: 0.1478\n",
      "Iteration:  850, Loss: 0.0766, TV Loss: 0.3858, Total Loss: 0.1537\n",
      "Iteration:  900, Loss: 0.0682, TV Loss: 0.1993, Total Loss: 0.1081\n",
      "Iteration:  950, Loss: 0.0650, TV Loss: 0.2260, Total Loss: 0.1102\n",
      "torch.Size([12, 3, 512, 512])\n",
      "torch.Size([12, 4, 64, 64])\n",
      "Iteration: 1000, Loss: 0.0677, TV Loss: 0.2138, Total Loss: 0.1104\n"
     ]
    },
    {
     "data": {
      "text/markdown": [
       "![Plot](reconstruction_1000.png)"
      ],
      "text/plain": [
       "<IPython.core.display.Markdown object>"
      ]
     },
     "metadata": {},
     "output_type": "display_data"
    },
    {
     "name": "stdout",
     "output_type": "stream",
     "text": [
      "Iteration: 1050, Loss: 0.0411, TV Loss: 0.2295, Total Loss: 0.0871\n",
      "Iteration: 1100, Loss: 0.0440, TV Loss: 0.2362, Total Loss: 0.0913\n",
      "Iteration: 1150, Loss: 0.0375, TV Loss: 0.2400, Total Loss: 0.0855\n",
      "torch.Size([12, 3, 512, 512])\n",
      "torch.Size([12, 4, 64, 64])\n",
      "Iteration: 1200, Loss: 0.0481, TV Loss: 0.2020, Total Loss: 0.0885\n",
      "Iteration: 1250, Loss: 0.0417, TV Loss: 0.2222, Total Loss: 0.0862\n",
      "Iteration: 1300, Loss: 0.0489, TV Loss: 0.2293, Total Loss: 0.0948\n",
      "Iteration: 1350, Loss: 0.0615, TV Loss: 0.2336, Total Loss: 0.1082\n",
      "torch.Size([12, 3, 512, 512])\n",
      "torch.Size([12, 4, 64, 64])\n",
      "Iteration: 1400, Loss: 0.0474, TV Loss: 0.1848, Total Loss: 0.0844\n",
      "Iteration: 1450, Loss: 0.0563, TV Loss: 0.2100, Total Loss: 0.0983\n",
      "Iteration: 1500, Loss: 0.0509, TV Loss: 0.2202, Total Loss: 0.0949\n"
     ]
    },
    {
     "data": {
      "text/markdown": [
       "![Plot](reconstruction_1500.png)"
      ],
      "text/plain": [
       "<IPython.core.display.Markdown object>"
      ]
     },
     "metadata": {},
     "output_type": "display_data"
    },
    {
     "name": "stdout",
     "output_type": "stream",
     "text": [
      "Iteration: 1550, Loss: 0.0485, TV Loss: 0.2262, Total Loss: 0.0938\n",
      "torch.Size([12, 3, 512, 512])\n",
      "torch.Size([12, 4, 64, 64])\n",
      "Iteration: 1600, Loss: 0.0587, TV Loss: 0.1703, Total Loss: 0.0927\n",
      "Iteration: 1650, Loss: 0.0480, TV Loss: 0.2008, Total Loss: 0.0882\n",
      "Iteration: 1700, Loss: 0.0570, TV Loss: 0.2140, Total Loss: 0.0999\n",
      "Iteration: 1750, Loss: 0.0536, TV Loss: 0.2212, Total Loss: 0.0978\n",
      "torch.Size([12, 3, 512, 512])\n",
      "torch.Size([12, 4, 64, 64])\n",
      "Iteration: 1800, Loss: 0.0607, TV Loss: 0.0991, Total Loss: 0.0805\n",
      "Iteration: 1850, Loss: 0.0487, TV Loss: 0.1169, Total Loss: 0.0721\n",
      "Iteration: 1900, Loss: 0.0480, TV Loss: 0.1268, Total Loss: 0.0734\n",
      "Iteration: 1950, Loss: 0.0353, TV Loss: 0.1336, Total Loss: 0.0620\n",
      "Iteration: 1999, Loss: 0.0425, TV Loss: 0.1380, Total Loss: 0.0701\n"
     ]
    },
    {
     "data": {
      "text/markdown": [
       "![Plot](reconstruction_1999.png)"
      ],
      "text/plain": [
       "<IPython.core.display.Markdown object>"
      ]
     },
     "metadata": {},
     "output_type": "display_data"
    }
   ],
   "source": [
    "def run_reconstructions(\n",
    "    img_paths, iterations, configs,\n",
    "    clip_suite: CLIPSuite,\n",
    "    diffusion_steps, diffusion_break, diffusion_interval,\n",
    "    reconstructions_per_img=4,\n",
    "    text_logging_freq=50, img_logging_freq=250,\n",
    "    ):\n",
    "    img = clip_suite.image_processor()([PIL.Image.open(img_name) for img_name in img_paths], return_tensors=\"pt\").pixel_values.to(clip_suite.device)\n",
    "    num_imgs = img.size(0)\n",
    "    plot(denormalize(img), cols = num_imgs)\n",
    "    plt.show()\n",
    "    num_configs = len(configs.keys())\n",
    "    img = img.repeat_interleave(reconstructions_per_img*num_configs, dim=0)\n",
    "    clip_projection = clip_suite.image_projector()(img).image_embeds\n",
    "    mapping_model = get_simple_mapping_model()[0].to(clip_suite.device)\n",
    "    mapping_model.eval()\n",
    "    resnet_proj = clip_suite.resnet()(img)\n",
    "    surrogate_clip = mapping_model(resnet_proj)\n",
    "    augs = K.AugmentationSequential(\n",
    "        K.RandomAffine(degrees=30, translate=[0.1, 0.1], scale=[0.7, 1.5], p=0.5, padding_mode=\"border\"),\n",
    "        same_on_batch=False\n",
    "    )\n",
    "\n",
    "    reconstruction = torch.randn((img.size(0), 3, 32, 32), device=clip_suite.device)\n",
    "    reconstruction.requires_grad_()\n",
    "    optimizer = torch.optim.Adam([reconstruction], lr=0.1)\n",
    "    scale_steps = {400: 64, 900:128, 1800:224}\n",
    "    for i in range(iterations):\n",
    "        optimizer.zero_grad()\n",
    "        if i in scale_steps.keys():\n",
    "            reconstruction = F.interpolate(reconstruction, size=(scale_steps[i], scale_steps[i]), mode=\"bicubic\")\n",
    "        if i % diffusion_break == 0:\n",
    "            with torch.no_grad():\n",
    "                curr_size = reconstruction.size(2)\n",
    "                reconstruction = F.interpolate(reconstruction, size=(512, 512), mode=\"bicubic\")\n",
    "                print(reconstruction.shape)\n",
    "                latents = clip_suite.vae().encode(reconstruction).latent_dist.mode()\n",
    "                print(latents.shape)\n",
    "                latents = clip_suite.perform_diffusion(latents, diffusion_steps, diffusion_interval=diffusion_interval)\n",
    "                reconstruction = clip_suite.vae().decode(latents).sample\n",
    "                reconstruction = F.interpolate(reconstruction, size=(curr_size, curr_size), mode=\"bicubic\")\n",
    "            reconstruction.requires_grad_()\n",
    "        batch = augs(reconstruction)\n",
    "        batch = F.interpolate(batch, size=(224, 224), mode=\"bicubic\")\n",
    "        tv_loss = total_variation(reconstruction)\n",
    "        total_loss = 0.2 * tv_loss\n",
    "        #total_loss += 0.2 * torch.norm(reconstruction,dim=1, p=2).mean()/reconstruction.size(1)\n",
    "        clip_loss = torch.zeros((reconstruction.size(0),), device=clip_suite.device)\n",
    "        rn_loss = torch.zeros_like(clip_loss)\n",
    "        other_loss = torch.zeros_like(clip_loss)\n",
    "\n",
    "        for ii in range(num_imgs):\n",
    "            for iii in range(num_configs):\n",
    "                slice_from = ii*reconstructions_per_img*num_configs+iii*reconstructions_per_img\n",
    "                slice_to = ii*reconstructions_per_img*num_configs+(iii+1)*reconstructions_per_img\n",
    "                chunk = batch[slice_from:slice_to]\n",
    "                if configs[iii][\"rn\"]:\n",
    "                    rn_loss[slice_from:slice_to] = configs[iii][\"rn\"](chunk, surrogate_clip[slice_from:slice_to], clip_projection[slice_from:slice_to], resnet_proj[slice_from:slice_to], clip_suite)\n",
    "                if configs[iii][\"clip\"]:\n",
    "                    clip_loss[slice_from:slice_to]= configs[iii][\"clip\"](chunk, surrogate_clip[slice_from:slice_to], clip_projection[slice_from:slice_to], resnet_proj[slice_from:slice_to], clip_suite)\n",
    "                if configs[iii][\"other\"]:\n",
    "                    other_loss[slice_from:slice_to]= configs[iii][\"other\"](chunk, surrogate_clip[slice_from:slice_to], clip_projection[slice_from:slice_to], resnet_proj[slice_from:slice_to], clip_suite)\n",
    "        loss = (rn_loss + clip_loss + other_loss).mean()\n",
    "        total_loss = loss + total_loss\n",
    "\n",
    "        grad = torch.autograd.grad([total_loss], [reconstruction])[0]\n",
    "        grad = grad / grad.norm()\n",
    "        reconstruction = reconstruction - 10*grad\n",
    "        if i % text_logging_freq == 0 or i == iterations - 1:\n",
    "            print(f\"Iteration: {i:4d}, Loss: {loss.item():6.4f}, TV Loss: {tv_loss.item():6.4f}, Total Loss: {total_loss.item():6.4f}\")\n",
    "        if i % img_logging_freq == 0 or i == iterations - 1:\n",
    "            if i == 0:\n",
    "                plot(denormalize(reconstruction[::reconstructions_per_img*num_configs]), texts=[f\"RN: {rn_loss[i]:.4f}, CLIP: {clip_loss[i]:.4f}\" for i in range(0, reconstruction.size(0), reconstructions_per_img*num_configs)], cols=num_imgs, show=False, save_path=f\"reconstruction_{i:04d}.png\")\n",
    "            else:\n",
    "                plot(denormalize(reconstruction), texts=[f\"RN: {rn_loss[i]:.4f}, CLIP: {clip_loss[i]:.4f}\" for i in range(reconstruction.size(0))], cols=reconstructions_per_img, show=False, save_path=f\"reconstruction_{i:04d}.png\")\n",
    "            display(Markdown(f\"![Plot](reconstruction_{i:04d}.png)\"))\n",
    "\n",
    "configs = {\n",
    "    0: {\n",
    "        \"rn\": resnet_projection_loss,\n",
    "        \"clip\": False,\n",
    "        \"other\": False,\n",
    "    },\n",
    "}\n",
    "#img_paths = [\"Images/14158.jpg\", \"Images/14042.jpg\", \"Images/14034.jpg\"]\n",
    "img_paths = [\"Images/13737.jpg\", \"Images/14032.jpg\", \"Images/14152.jpg\"]\n",
    "\n",
    "run_reconstructions(img_paths=img_paths, iterations=2000, configs=configs,\n",
    "                    reconstructions_per_img=4, diffusion_steps=20, diffusion_interval=[8, 12], diffusion_break=200,\n",
    "                    text_logging_freq=50, img_logging_freq=500, \n",
    "                    clip_suite=clip_suite)"
   ]
  },
  {
   "cell_type": "markdown",
   "metadata": {},
   "source": [
    "## RN + SCLIP"
   ]
  },
  {
   "cell_type": "code",
   "execution_count": null,
   "metadata": {},
   "outputs": [],
   "source": [
    "def run_reconstructions(\n",
    "    img_paths, iterations, configs,\n",
    "    clip_suite: CLIPSuite,\n",
    "    diffusion_steps, diffusion_break, diffusion_interval,\n",
    "    reconstructions_per_img=4,\n",
    "    text_logging_freq=50, img_logging_freq=250,\n",
    "    ):\n",
    "    img = clip_suite.image_processor()([PIL.Image.open(img_name) for img_name in img_paths], return_tensors=\"pt\").pixel_values.to(clip_suite.device)\n",
    "    num_imgs = img.size(0)\n",
    "    plot(denormalize(img), cols = num_imgs)\n",
    "    plt.show()\n",
    "    num_configs = len(configs.keys())\n",
    "    img = img.repeat_interleave(reconstructions_per_img*num_configs, dim=0)\n",
    "    clip_projection = clip_suite.image_projector()(img).image_embeds\n",
    "    mapping_model = get_simple_mapping_model()[0].to(clip_suite.device)\n",
    "    mapping_model.eval()\n",
    "    resnet_proj = clip_suite.resnet()(img)\n",
    "    surrogate_clip = mapping_model(resnet_proj)\n",
    "    augs = K.AugmentationSequential(\n",
    "        K.RandomAffine(degrees=30, translate=[0.1, 0.1], scale=[0.7, 1.5], p=0.5, padding_mode=\"border\"),\n",
    "        same_on_batch=False\n",
    "    )\n",
    "\n",
    "    reconstruction = torch.randn((img.size(0), 3, 32, 32), device=clip_suite.device)\n",
    "    reconstruction.requires_grad_()\n",
    "    optimizer = torch.optim.Adam([reconstruction], lr=0.1)\n",
    "    scale_steps = {400: 64, 900:128, 1800:224}\n",
    "    for i in range(iterations):\n",
    "        optimizer.zero_grad()\n",
    "        if i in scale_steps.keys():\n",
    "            reconstruction = F.interpolate(reconstruction, size=(scale_steps[i], scale_steps[i]), mode=\"bicubic\")\n",
    "        if i != 0 and i % diffusion_break == 0:\n",
    "            with torch.no_grad():\n",
    "                curr_size = reconstruction.size(2)\n",
    "                reconstruction = F.interpolate(reconstruction, size=(512, 512), mode=\"bicubic\")\n",
    "                latents = clip_suite.vae().encode(reconstruction).latent_dist.mode()\n",
    "                latents = clip_suite.perform_diffusion(latents, diffusion_steps, diffusion_interval=diffusion_interval)\n",
    "                reconstruction = clip_suite.vae().decode(latents).sample\n",
    "                reconstruction = F.interpolate(reconstruction, size=(curr_size, curr_size), mode=\"bicubic\")\n",
    "            reconstruction.requires_grad_()\n",
    "        batch = augs(reconstruction)\n",
    "        batch = F.interpolate(batch, size=(224, 224), mode=\"bicubic\")\n",
    "        tv_loss = total_variation(reconstruction)\n",
    "        total_loss = 0.2 * tv_loss\n",
    "        clip_loss = torch.zeros((reconstruction.size(0),), device=clip_suite.device)\n",
    "        rn_loss = torch.zeros_like(clip_loss)\n",
    "        other_loss = torch.zeros_like(clip_loss)\n",
    "\n",
    "        for ii in range(num_imgs):\n",
    "            for iii in range(num_configs):\n",
    "                slice_from = ii*reconstructions_per_img*num_configs+iii*reconstructions_per_img\n",
    "                slice_to = ii*reconstructions_per_img*num_configs+(iii+1)*reconstructions_per_img\n",
    "                chunk = batch[slice_from:slice_to]\n",
    "                if configs[iii][\"rn\"]:\n",
    "                    rn_loss[slice_from:slice_to] = configs[iii][\"rn\"](chunk, surrogate_clip[slice_from:slice_to], clip_projection[slice_from:slice_to], resnet_proj[slice_from:slice_to], clip_suite)\n",
    "                if configs[iii][\"clip\"]:\n",
    "                    clip_loss[slice_from:slice_to]= configs[iii][\"clip\"](chunk, surrogate_clip[slice_from:slice_to], clip_projection[slice_from:slice_to], resnet_proj[slice_from:slice_to], clip_suite)\n",
    "                if configs[iii][\"other\"]:\n",
    "                    other_loss[slice_from:slice_to]= configs[iii][\"other\"](chunk, surrogate_clip[slice_from:slice_to], clip_projection[slice_from:slice_to], resnet_proj[slice_from:slice_to], clip_suite)\n",
    "        loss = (rn_loss + clip_loss + other_loss).mean()\n",
    "        total_loss = loss + total_loss\n",
    "\n",
    "        grad = torch.autograd.grad([total_loss], [reconstruction])[0]\n",
    "        grad = grad / grad.norm()\n",
    "        reconstruction = reconstruction - 10*grad\n",
    "        if i % text_logging_freq == 0 or i == iterations - 1:\n",
    "            print(f\"Iteration: {i:4d}, Loss: {loss.item():6.4f}, TV Loss: {tv_loss.item():6.4f}, Total Loss: {total_loss.item():6.4f}\")\n",
    "        if i % img_logging_freq == 0 or i == iterations - 1:\n",
    "            if i == 0:\n",
    "                plot(denormalize(reconstruction[::reconstructions_per_img*num_configs]), texts=[f\"RN: {rn_loss[i]:.4f}, CLIP: {clip_loss[i]:.4f}\" for i in range(0, reconstruction.size(0), reconstructions_per_img*num_configs)], cols=num_imgs)\n",
    "            else:\n",
    "                plot(denormalize(reconstruction), texts=[f\"RN: {rn_loss[i]:.4f}, CLIP: {clip_loss[i]:.4f}\" for i in range(reconstruction.size(0))], cols=reconstructions_per_img)\n",
    "            plt.show()\n",
    "\n",
    "configs = {\n",
    "    0: {\n",
    "        \"rn\": resnet_projection_loss,\n",
    "        \"clip\": surrogate_clip_loss,\n",
    "        \"other\": False,\n",
    "    },\n",
    "}\n",
    "#img_paths = [\"Images/14158.jpg\", \"Images/14042.jpg\", \"Images/14034.jpg\"]\n",
    "img_paths = [\"Images/13737.jpg\", \"Images/14032.jpg\", \"Images/14152.jpg\"]\n",
    "\n",
    "run_reconstructions(img_paths=img_paths, iterations=1500, configs=configs,\n",
    "                    reconstructions_per_img=4, diffusion_steps=20, diffusion_interval=[8,12], diffusion_break=100,\n",
    "                    text_logging_freq=50, img_logging_freq=100, \n",
    "                    clip_suite=clip_suite)"
   ]
  },
  {
   "cell_type": "markdown",
   "metadata": {},
   "source": [
    "## Anti Fading"
   ]
  },
  {
   "cell_type": "code",
   "execution_count": null,
   "metadata": {},
   "outputs": [],
   "source": [
    "def run_reconstructions(\n",
    "    img_paths, iterations, configs,\n",
    "    clip_suite: CLIPSuite,\n",
    "    diffusion_steps, diffusion_break, diffusion_interval,\n",
    "    reconstructions_per_img=4,\n",
    "    text_logging_freq=50, img_logging_freq=250,\n",
    "    ):\n",
    "    img = clip_suite.image_processor()([PIL.Image.open(img_name) for img_name in img_paths], return_tensors=\"pt\").pixel_values.to(clip_suite.device)\n",
    "    num_imgs = img.size(0)\n",
    "    plot(denormalize(img), cols = num_imgs)\n",
    "    plt.show()\n",
    "    num_configs = len(configs.keys())\n",
    "    img = img.repeat_interleave(reconstructions_per_img*num_configs, dim=0)\n",
    "    clip_projection = clip_suite.image_projector()(img).image_embeds\n",
    "    mapping_model = get_simple_mapping_model()[0].to(clip_suite.device)\n",
    "    mapping_model.eval()\n",
    "    resnet_proj = clip_suite.resnet()(img)\n",
    "    surrogate_clip = mapping_model(resnet_proj)\n",
    "    augs = K.AugmentationSequential(\n",
    "        K.RandomAffine(degrees=30, translate=[0.1, 0.1], scale=[0.7, 1.5], p=0.5, padding_mode=\"border\"),\n",
    "        same_on_batch=False\n",
    "    )\n",
    "\n",
    "    reconstruction = torch.randn((img.size(0), 3, 32, 32), device=clip_suite.device)\n",
    "    reconstruction.requires_grad_()\n",
    "    optimizer = torch.optim.Adam([reconstruction], lr=0.1)\n",
    "    scale_steps = {400: 64, 900:128, 1800:224}\n",
    "    for i in range(iterations):\n",
    "        optimizer.zero_grad()\n",
    "        if i in scale_steps.keys():\n",
    "            reconstruction = F.interpolate(reconstruction, size=(scale_steps[i], scale_steps[i]), mode=\"bicubic\")\n",
    "        if i != 0 and i % diffusion_break == 0:\n",
    "            with torch.no_grad():\n",
    "                curr_size = reconstruction.size(2)\n",
    "                reconstruction = F.interpolate(reconstruction, size=(512, 512), mode=\"bicubic\")\n",
    "                print(\"==============================\")\n",
    "                variance = reconstruction.var()\n",
    "                print(f\"recon varinace: {variance:.4f} mean: {reconstruction.mean():.4f}\")\n",
    "                latents = clip_suite.vae().encode(reconstruction).latent_dist.mode()\n",
    "                print(f\"laten varinace: {latents.var():.4f} mean: {latents.mean():.4f}\")\n",
    "                for _ in range(20):\n",
    "                    latents = clip_suite.perform_diffusion(latents, diffusion_steps, diffusion_interval=diffusion_interval)\n",
    "                print(f\"laten varinace: {latents.var():.4f} mean: {latents.mean():.4f}\")\n",
    "                reconstruction = clip_suite.vae().decode(latents).sample\n",
    "                print(f\"recon varinace: {reconstruction.var():.4f} mean: {reconstruction.mean():.4f}\")\n",
    "                var_ratio = variance / reconstruction.var()\n",
    "                print(f\"var ratio: {var_ratio:.4f}\")\n",
    "                reconstruction = F.interpolate(reconstruction, size=(curr_size, curr_size), mode=\"bicubic\")\n",
    "            reconstruction.requires_grad_()\n",
    "        batch = augs(reconstruction)\n",
    "        batch = F.interpolate(batch, size=(224, 224), mode=\"bicubic\")\n",
    "        clip_loss = torch.zeros((reconstruction.size(0),), device=clip_suite.device)\n",
    "        rn_loss = torch.zeros_like(clip_loss)\n",
    "        other_loss = torch.zeros_like(clip_loss)\n",
    "\n",
    "        for ii in range(num_imgs):\n",
    "            for iii in range(num_configs):\n",
    "                slice_from = ii*reconstructions_per_img*num_configs+iii*reconstructions_per_img\n",
    "                slice_to = ii*reconstructions_per_img*num_configs+(iii+1)*reconstructions_per_img\n",
    "                chunk = batch[slice_from:slice_to]\n",
    "                if configs[iii][\"rn\"]:\n",
    "                    rn_loss[slice_from:slice_to] = configs[iii][\"rn\"](chunk, surrogate_clip[slice_from:slice_to], clip_projection[slice_from:slice_to], resnet_proj[slice_from:slice_to], clip_suite)\n",
    "                if configs[iii][\"clip\"]:\n",
    "                    clip_loss[slice_from:slice_to]= configs[iii][\"clip\"](chunk, surrogate_clip[slice_from:slice_to], clip_projection[slice_from:slice_to], resnet_proj[slice_from:slice_to], clip_suite)\n",
    "                if configs[iii][\"other\"]:\n",
    "                    other_loss[slice_from:slice_to]= configs[iii][\"other\"](chunk, surrogate_clip[slice_from:slice_to], clip_projection[slice_from:slice_to], resnet_proj[slice_from:slice_to], clip_suite)\n",
    "        loss = (rn_loss + clip_loss + other_loss).mean()\n",
    "        total_loss = loss\n",
    "\n",
    "        grad = torch.autograd.grad([total_loss], [reconstruction])[0]\n",
    "        grad = grad / grad.norm()\n",
    "        reconstruction = reconstruction - 10*grad\n",
    "        if i % text_logging_freq == 0 or i == iterations - 1:\n",
    "            print(f\"Iteration: {i:4d}, Loss: {loss.item():6.4f}, Other Loss: {other_loss.mean().item():6.4f}, Total Loss: {total_loss.item():6.4f}\")\n",
    "        if i % img_logging_freq == 0 or i == iterations - 1:\n",
    "            if i == 0:\n",
    "                plot(denormalize(reconstruction[::reconstructions_per_img*num_configs]), texts=[f\"RN: {rn_loss[i]:.4f}, CLIP: {clip_loss[i]:.4f}\" for i in range(0, reconstruction.size(0), reconstructions_per_img*num_configs)], cols=num_imgs)\n",
    "            else:\n",
    "                plot(denormalize(reconstruction), texts=[f\"RN: {rn_loss[i]:.4f}, CLIP: {clip_loss[i]:.4f}\" for i in range(reconstruction.size(0))], cols=reconstructions_per_img)\n",
    "            plt.show()\n",
    "\n",
    "configs = {\n",
    "    0: {\n",
    "        \"rn\": resnet_projection_loss,\n",
    "        \"clip\": False,\n",
    "        \"other\": False,\n",
    "    },\n",
    "}\n",
    "#img_paths = [\"Images/14158.jpg\", \"Images/14042.jpg\", \"Images/14034.jpg\"]\n",
    "img_paths = [\"Images/13737.jpg\"]\n",
    "\n",
    "#run_reconstructions(img_paths=img_paths, iterations=30, configs=configs,\n",
    "                    #reconstructions_per_img=4, diffusion_steps=200, diffusion_interval=[197,199], diffusion_break=1,\n",
    "                    #text_logging_freq=50, img_logging_freq=5, \n",
    "                    #clip_suite=clip_suite)\n",
    "\n",
    "img = clip_suite.image_processor()([PIL.Image.open(img_name) for img_name in img_paths], return_tensors=\"pt\").pixel_values.to(clip_suite.device)\n",
    "for i in range(50):\n",
    "    if i % 10 == 0:\n",
    "        plot(denormalize(img))\n",
    "        plt.show()\n",
    "    with torch.no_grad():\n",
    "        latents = clip_suite.vae().encode(img).latent_dist.mode()\n",
    "        #latents = clip_suite.perform_diffusion(latents, 100, diffusion_interval=[48, 50])\n",
    "        img = clip_suite.vae().decode(latents).sample\n",
    "        #img += torch.randn_like(img) * 0.1\n"
   ]
  }
 ],
 "metadata": {
  "kernelspec": {
   "display_name": "Python 3",
   "language": "python",
   "name": "python3"
  },
  "language_info": {
   "codemirror_mode": {
    "name": "ipython",
    "version": 3
   },
   "file_extension": ".py",
   "mimetype": "text/x-python",
   "name": "python",
   "nbconvert_exporter": "python",
   "pygments_lexer": "ipython3",
   "version": "3.11.6"
  }
 },
 "nbformat": 4,
 "nbformat_minor": 2
}
